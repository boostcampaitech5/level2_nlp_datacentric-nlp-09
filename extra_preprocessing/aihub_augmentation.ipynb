{
 "cells": [
  {
   "cell_type": "code",
   "execution_count": 11,
   "metadata": {},
   "outputs": [],
   "source": [
    "import pandas as pd\n",
    "import numpy as np\n",
    "import matplotlib.pyplot as plt\n",
    "from tqdm import tqdm"
   ]
  },
  {
   "cell_type": "code",
   "execution_count": 3,
   "metadata": {},
   "outputs": [
    {
     "data": {
      "text/html": [
       "<div>\n",
       "<style scoped>\n",
       "    .dataframe tbody tr th:only-of-type {\n",
       "        vertical-align: middle;\n",
       "    }\n",
       "\n",
       "    .dataframe tbody tr th {\n",
       "        vertical-align: top;\n",
       "    }\n",
       "\n",
       "    .dataframe thead th {\n",
       "        text-align: right;\n",
       "    }\n",
       "</style>\n",
       "<table border=\"1\" class=\"dataframe\">\n",
       "  <thead>\n",
       "    <tr style=\"text-align: right;\">\n",
       "      <th></th>\n",
       "      <th>input_text</th>\n",
       "      <th>predefined_news_category</th>\n",
       "      <th>target</th>\n",
       "    </tr>\n",
       "  </thead>\n",
       "  <tbody>\n",
       "    <tr>\n",
       "      <th>0</th>\n",
       "      <td>시진핑엔 선물, 바이든엔 모욕… 유럽의회서 막힌 中·EU투자협정</td>\n",
       "      <td>세계</td>\n",
       "      <td>4</td>\n",
       "    </tr>\n",
       "    <tr>\n",
       "      <th>1</th>\n",
       "      <td>김경수 분노…내가 문 대통령께 반발? 참 희한한 일</td>\n",
       "      <td>정치</td>\n",
       "      <td>6</td>\n",
       "    </tr>\n",
       "    <tr>\n",
       "      <th>2</th>\n",
       "      <td>오늘부터 사라진 네이버 실검…빈자리엔 날씨와 주가</td>\n",
       "      <td>IT과학</td>\n",
       "      <td>0</td>\n",
       "    </tr>\n",
       "    <tr>\n",
       "      <th>3</th>\n",
       "      <td>경남도, 신혼 반값 임대주택 공급 확대</td>\n",
       "      <td>사회</td>\n",
       "      <td>2</td>\n",
       "    </tr>\n",
       "    <tr>\n",
       "      <th>4</th>\n",
       "      <td>작년 3분기 일자리 늘었다는데… 2030 일자리만 15만개 감소</td>\n",
       "      <td>경제</td>\n",
       "      <td>1</td>\n",
       "    </tr>\n",
       "    <tr>\n",
       "      <th>...</th>\n",
       "      <td>...</td>\n",
       "      <td>...</td>\n",
       "      <td>...</td>\n",
       "    </tr>\n",
       "    <tr>\n",
       "      <th>121002</th>\n",
       "      <td>광주예고 제38회 예향제 전시 성료</td>\n",
       "      <td>생활문화</td>\n",
       "      <td>3</td>\n",
       "    </tr>\n",
       "    <tr>\n",
       "      <th>121003</th>\n",
       "      <td>생각의 전환으로 깨어있는 체육회 만들겠다</td>\n",
       "      <td>스포츠</td>\n",
       "      <td>5</td>\n",
       "    </tr>\n",
       "    <tr>\n",
       "      <th>121004</th>\n",
       "      <td>기아 오토랜드 광주 드림토크콘서트</td>\n",
       "      <td>생활문화</td>\n",
       "      <td>3</td>\n",
       "    </tr>\n",
       "    <tr>\n",
       "      <th>121005</th>\n",
       "      <td>해남군, 원광전력 주식회사 전남형 강소기업 선정</td>\n",
       "      <td>경제</td>\n",
       "      <td>1</td>\n",
       "    </tr>\n",
       "    <tr>\n",
       "      <th>121006</th>\n",
       "      <td>광주도시철도공사 유도 金빛 메치기</td>\n",
       "      <td>스포츠</td>\n",
       "      <td>5</td>\n",
       "    </tr>\n",
       "  </tbody>\n",
       "</table>\n",
       "<p>121007 rows × 3 columns</p>\n",
       "</div>"
      ],
      "text/plain": [
       "                                 input_text predefined_news_category  target\n",
       "0       시진핑엔 선물, 바이든엔 모욕… 유럽의회서 막힌 中·EU투자협정                       세계       4\n",
       "1              김경수 분노…내가 문 대통령께 반발? 참 희한한 일                       정치       6\n",
       "2               오늘부터 사라진 네이버 실검…빈자리엔 날씨와 주가                     IT과학       0\n",
       "3                     경남도, 신혼 반값 임대주택 공급 확대                       사회       2\n",
       "4       작년 3분기 일자리 늘었다는데… 2030 일자리만 15만개 감소                       경제       1\n",
       "...                                     ...                      ...     ...\n",
       "121002                  광주예고 제38회 예향제 전시 성료                     생활문화       3\n",
       "121003               생각의 전환으로 깨어있는 체육회 만들겠다                      스포츠       5\n",
       "121004                   기아 오토랜드 광주 드림토크콘서트                     생활문화       3\n",
       "121005           해남군, 원광전력 주식회사 전남형 강소기업 선정                       경제       1\n",
       "121006                   광주도시철도공사 유도 金빛 메치기                      스포츠       5\n",
       "\n",
       "[121007 rows x 3 columns]"
      ]
     },
     "execution_count": 3,
     "metadata": {},
     "output_type": "execute_result"
    }
   ],
   "source": [
    "news = pd.read_csv('../data/AI_Hub_news_data_with_new_target.csv')\n",
    "news"
   ]
  },
  {
   "cell_type": "code",
   "execution_count": 4,
   "metadata": {},
   "outputs": [],
   "source": [
    "labels = ['IT과학', '경제', '사회', '생활문화', '세계', '스포츠', '정치']\n",
    "lab2num = {cat: idx for idx, cat in enumerate(labels)}\n",
    "num2lab = {idx: cat for idx, cat in enumerate(labels)}"
   ]
  },
  {
   "cell_type": "code",
   "execution_count": 5,
   "metadata": {},
   "outputs": [
    {
     "name": "stdout",
     "output_type": "stream",
     "text": [
      "['NanumGothic']\n"
     ]
    }
   ],
   "source": [
    "# 한글 깨짐 해결\n",
    "import matplotlib\n",
    "\n",
    "matplotlib.rcParams['font.family'] ='NanumGothic'\n",
    "matplotlib.rcParams['axes.unicode_minus'] = False\n",
    "print(plt.rcParams['font.family'])"
   ]
  },
  {
   "cell_type": "code",
   "execution_count": 8,
   "metadata": {},
   "outputs": [
    {
     "data": {
      "image/png": "[encoded data removed]",
      "text/plain": [
       "<Figure size 1300x700 with 1 Axes>"
      ]
     },
     "metadata": {},
     "output_type": "display_data"
    }
   ],
   "source": [
    "# label_text별 개수\n",
    "label_counts = news.target.value_counts()\n",
    "\n",
    "# label_text와 predefined_news_category의 label 별 개수 차이 시각화\n",
    "fig, ax = plt.subplots(1, 1, figsize=(13, 7))\n",
    "\n",
    "x = np.arange(len(labels))\n",
    "width = 0.60\n",
    "\n",
    "for i in range(7):\n",
    "    ax.bar(i, label_counts[i], width=width, color='cornflowerblue')\n",
    "\n",
    "ax.set_xticks(x)\n",
    "ax.set_xticklabels(labels)\n",
    "\n",
    "plt.title('Label Distribution in AI Hub News Data')\n",
    "plt.xlabel('Labels')\n",
    "plt.ylabel('# of Data')\n",
    "plt.show()"
   ]
  },
  {
   "cell_type": "code",
   "execution_count": 13,
   "metadata": {},
   "outputs": [
    {
     "name": "stderr",
     "output_type": "stream",
     "text": [
      "  0%|          | 0/121007 [00:00<?, ?it/s]/tmp/ipykernel_12864/2200733893.py:7: SettingWithCopyWarning: \n",
      "A value is trying to be set on a copy of a slice from a DataFrame\n",
      "\n",
      "See the caveats in the documentation: https://pandas.pydata.org/pandas-docs/stable/user_guide/indexing.html#returning-a-view-versus-a-copy\n",
      "  news.iloc[idx].input_text = news.iloc[idx].input_text.strip()\n",
      "  0%|          | 260/121007 [00:00<01:31, 1326.86it/s]"
     ]
    },
    {
     "name": "stdout",
     "output_type": "stream",
     "text": [
      "시진핑엔 선물, 바이든엔 모욕… 유럽의회서 막힌 中·EU투자협정\n"
     ]
    },
    {
     "name": "stderr",
     "output_type": "stream",
     "text": [
      "  1%|          | 1295/121007 [00:00<01:20, 1479.01it/s]"
     ]
    },
    {
     "name": "stdout",
     "output_type": "stream",
     "text": [
      "전남도, 코로나19 지역감염 9명 추가 발생\n"
     ]
    },
    {
     "name": "stderr",
     "output_type": "stream",
     "text": [
      "  2%|▏         | 2197/121007 [00:01<01:19, 1493.66it/s]"
     ]
    },
    {
     "name": "stdout",
     "output_type": "stream",
     "text": [
      "부산항만공사, 국민의 안전과 건강을 위한 대국민 혁신 아이디어 공모전 개최\n"
     ]
    },
    {
     "name": "stderr",
     "output_type": "stream",
     "text": [
      "  3%|▎         | 3248/121007 [00:02<01:18, 1492.36it/s]"
     ]
    },
    {
     "name": "stdout",
     "output_type": "stream",
     "text": [
      "문현1동 「아삭아삭 여름김치」 직접 담아 소외계층에 전달\n"
     ]
    },
    {
     "name": "stderr",
     "output_type": "stream",
     "text": [
      "  4%|▎         | 4283/121007 [00:02<01:20, 1455.50it/s]"
     ]
    },
    {
     "name": "stdout",
     "output_type": "stream",
     "text": [
      "오륙도 트램 노선 정거장 5곳 들어선다\n"
     ]
    },
    {
     "name": "stderr",
     "output_type": "stream",
     "text": [
      "  4%|▍         | 5155/121007 [00:03<01:26, 1336.04it/s]"
     ]
    },
    {
     "name": "stdout",
     "output_type": "stream",
     "text": [
      "경산자원봉사센터와 귀통증 방지 마스크밴드 제작\n"
     ]
    },
    {
     "name": "stderr",
     "output_type": "stream",
     "text": [
      "  5%|▌         | 6453/121007 [00:04<00:45, 2512.57it/s]"
     ]
    },
    {
     "name": "stdout",
     "output_type": "stream",
     "text": [
      "방사광가속기 유치 성공 충북도 국민들께 감사\n"
     ]
    },
    {
     "name": "stderr",
     "output_type": "stream",
     "text": [
      "  6%|▌         | 7334/121007 [00:04<00:40, 2791.86it/s]"
     ]
    },
    {
     "name": "stdout",
     "output_type": "stream",
     "text": [
      "나빌레라 박인환, 발레 꿈나무(?)의 다리찢기\n"
     ]
    },
    {
     "name": "stderr",
     "output_type": "stream",
     "text": [
      "  7%|▋         | 8503/121007 [00:04<00:41, 2707.77it/s]"
     ]
    },
    {
     "name": "stdout",
     "output_type": "stream",
     "text": [
      "헌혈증 나눠드려요 소비자들이 성장시키는 당근마켓\n"
     ]
    },
    {
     "name": "stderr",
     "output_type": "stream",
     "text": [
      "  7%|▋         | 9049/121007 [00:05<00:45, 2441.42it/s]"
     ]
    },
    {
     "name": "stdout",
     "output_type": "stream",
     "text": [
      "최종합격했는데 임용거부 당해…33세 청년의 호소\n"
     ]
    },
    {
     "name": "stderr",
     "output_type": "stream",
     "text": [
      "  8%|▊         | 10108/121007 [00:05<01:14, 1483.22it/s]"
     ]
    },
    {
     "name": "stdout",
     "output_type": "stream",
     "text": [
      "참신앙 깨닫고 나눔 인생 시작… 국민일보가 나를 살렸다\n"
     ]
    },
    {
     "name": "stderr",
     "output_type": "stream",
     "text": [
      "  9%|▉         | 11204/121007 [00:06<01:28, 1247.59it/s]"
     ]
    },
    {
     "name": "stdout",
     "output_type": "stream",
     "text": [
      "오염수 방류 철회하라 목회자들 日 대사관앞에서 기도회\n"
     ]
    },
    {
     "name": "stderr",
     "output_type": "stream",
     "text": [
      " 10%|█         | 12215/121007 [00:07<01:27, 1243.07it/s]"
     ]
    },
    {
     "name": "stdout",
     "output_type": "stream",
     "text": [
      "광주 대중교통 코로나 직격탄에 적자 눈덩이\n"
     ]
    },
    {
     "name": "stderr",
     "output_type": "stream",
     "text": [
      " 11%|█         | 13199/121007 [00:08<01:28, 1224.81it/s]"
     ]
    },
    {
     "name": "stdout",
     "output_type": "stream",
     "text": [
      "올리브영, MZ 겨냥 건강 간식 통했다…매출 껑충\n"
     ]
    },
    {
     "name": "stderr",
     "output_type": "stream",
     "text": [
      " 12%|█▏        | 14167/121007 [00:09<01:29, 1195.39it/s]"
     ]
    },
    {
     "name": "stdout",
     "output_type": "stream",
     "text": [
      "김해시, 내달 친환경 미생물배양센터 본격 가동\n"
     ]
    },
    {
     "name": "stderr",
     "output_type": "stream",
     "text": [
      " 13%|█▎        | 15311/121007 [00:09<00:50, 2112.20it/s]"
     ]
    },
    {
     "name": "stdout",
     "output_type": "stream",
     "text": [
      "고프로, 히어로9 블랙 맥스 렌즈 모듈 국내 출시\n"
     ]
    },
    {
     "name": "stderr",
     "output_type": "stream",
     "text": [
      " 13%|█▎        | 16335/121007 [00:10<00:53, 1965.93it/s]"
     ]
    },
    {
     "name": "stdout",
     "output_type": "stream",
     "text": [
      "부산공기업 이사에 이름만… 시청 고위직, 회의 참석률 저조\n"
     ]
    },
    {
     "name": "stderr",
     "output_type": "stream",
     "text": [
      " 14%|█▍        | 17329/121007 [00:10<00:43, 2370.26it/s]"
     ]
    },
    {
     "name": "stdout",
     "output_type": "stream",
     "text": [
      "오! 주인님 이민기-나나, 동거 계약서 작성...본격 로맨스 시동\n"
     ]
    },
    {
     "name": "stderr",
     "output_type": "stream",
     "text": [
      " 15%|█▌        | 18397/121007 [00:11<00:47, 2178.15it/s]"
     ]
    },
    {
     "name": "stdout",
     "output_type": "stream",
     "text": [
      "멀리서 보면 푸른 봄 PD 박지훈, 아이돌 이미지 염려 有\n"
     ]
    },
    {
     "name": "stderr",
     "output_type": "stream",
     "text": [
      " 16%|█▌        | 19250/121007 [00:11<00:51, 1993.85it/s]"
     ]
    },
    {
     "name": "stdout",
     "output_type": "stream",
     "text": [
      "팔레스타인 목소리 억압 의혹에… 페이스북 임직원 연서명\n"
     ]
    },
    {
     "name": "stderr",
     "output_type": "stream",
     "text": [
      " 17%|█▋        | 20302/121007 [00:12<00:49, 2042.81it/s]"
     ]
    },
    {
     "name": "stdout",
     "output_type": "stream",
     "text": [
      "숨을 쉬는 한 희망은 있다 이준석, 한국오픈에서 생애 첫 우승\n"
     ]
    },
    {
     "name": "stderr",
     "output_type": "stream",
     "text": [
      " 18%|█▊        | 21510/121007 [00:12<00:40, 2460.90it/s]"
     ]
    },
    {
     "name": "stdout",
     "output_type": "stream",
     "text": [
      "맛남의 광장 백종원, 외모 칭찬에 흐뭇 소유진이 시집을 잘 갔지\n"
     ]
    },
    {
     "name": "stderr",
     "output_type": "stream",
     "text": [
      " 18%|█▊        | 22357/121007 [00:13<00:36, 2706.86it/s]"
     ]
    },
    {
     "name": "stdout",
     "output_type": "stream",
     "text": [
      "인천 취약계층 1인가구 위기대응 돌봄플러그 시작\n"
     ]
    },
    {
     "name": "stderr",
     "output_type": "stream",
     "text": [
      " 19%|█▉        | 23579/121007 [00:13<00:32, 2979.33it/s]"
     ]
    },
    {
     "name": "stdout",
     "output_type": "stream",
     "text": [
      "오욕의 20만t 의성 쓰레기산, 1년8개월 만 사라졌다\n"
     ]
    },
    {
     "name": "stderr",
     "output_type": "stream",
     "text": [
      " 20%|██        | 24491/121007 [00:13<00:32, 3006.19it/s]"
     ]
    },
    {
     "name": "stdout",
     "output_type": "stream",
     "text": [
      "친문 블랙리스트 꺼낸 나경원 JK김동욱에 강원래까지\n"
     ]
    },
    {
     "name": "stderr",
     "output_type": "stream",
     "text": [
      " 21%|██        | 25386/121007 [00:14<00:32, 2944.69it/s]"
     ]
    },
    {
     "name": "stdout",
     "output_type": "stream",
     "text": [
      "진도군, 아리랑상품권 10% 특별 할인·판매\n"
     ]
    },
    {
     "name": "stderr",
     "output_type": "stream",
     "text": [
      " 22%|██▏       | 26586/121007 [00:14<00:31, 2984.09it/s]"
     ]
    },
    {
     "name": "stdout",
     "output_type": "stream",
     "text": [
      "장기기증 경동호 지난해 뇌출혈, 가족들 기적 바랐지만…\n"
     ]
    },
    {
     "name": "stderr",
     "output_type": "stream",
     "text": [
      " 23%|██▎       | 27504/121007 [00:14<00:30, 3029.46it/s]"
     ]
    },
    {
     "name": "stdout",
     "output_type": "stream",
     "text": [
      "갤럭시아에스엠, 테크노짐 과 독점계약\n"
     ]
    },
    {
     "name": "stderr",
     "output_type": "stream",
     "text": [
      " 23%|██▎       | 28426/121007 [00:15<00:30, 3058.91it/s]"
     ]
    },
    {
     "name": "stdout",
     "output_type": "stream",
     "text": [
      "기술적 사안 韓선박 나포에 이란 외무부가 밝힌 입장\n"
     ]
    },
    {
     "name": "stderr",
     "output_type": "stream",
     "text": [
      " 24%|██▍       | 29353/121007 [00:15<00:29, 3065.29it/s]"
     ]
    },
    {
     "name": "stdout",
     "output_type": "stream",
     "text": [
      "정세균 LG-SK 배터리 소송 남 좋은 일만 시켜\n"
     ]
    },
    {
     "name": "stderr",
     "output_type": "stream",
     "text": [
      " 25%|██▌       | 30608/121007 [00:15<00:29, 3092.33it/s]"
     ]
    },
    {
     "name": "stdout",
     "output_type": "stream",
     "text": [
      "창원시 수산물 수출업체 백만불 수출탑 수상\n"
     ]
    },
    {
     "name": "stderr",
     "output_type": "stream",
     "text": [
      " 26%|██▌       | 31519/121007 [00:16<00:30, 2948.45it/s]"
     ]
    },
    {
     "name": "stdout",
     "output_type": "stream",
     "text": [
      "농어촌공사 농촌협약 교육 세미나…농촌공간계획 수립 등 논의\n"
     ]
    },
    {
     "name": "stderr",
     "output_type": "stream",
     "text": [
      " 27%|██▋       | 32408/121007 [00:16<00:30, 2931.21it/s]"
     ]
    },
    {
     "name": "stdout",
     "output_type": "stream",
     "text": [
      "와~ 대도하이젠… 중기 유일 정부 수소 사업자 선정\n"
     ]
    },
    {
     "name": "stderr",
     "output_type": "stream",
     "text": [
      " 28%|██▊       | 33554/121007 [00:16<00:31, 2744.17it/s]"
     ]
    },
    {
     "name": "stdout",
     "output_type": "stream",
     "text": [
      "창업진흥원 신임 원장에 김용문 전 서강대 교수…혁신기업 집중 지원\n"
     ]
    },
    {
     "name": "stderr",
     "output_type": "stream",
     "text": [
      " 28%|██▊       | 34353/121007 [00:17<00:33, 2553.17it/s]"
     ]
    },
    {
     "name": "stdout",
     "output_type": "stream",
     "text": [
      "금정구, KT와 탄소 중립·스마트 그린도시 향한 동행\n"
     ]
    },
    {
     "name": "stderr",
     "output_type": "stream",
     "text": [
      " 29%|██▉       | 35067/121007 [00:17<00:51, 1667.93it/s]"
     ]
    },
    {
     "name": "stdout",
     "output_type": "stream",
     "text": [
      "나경원도 등판… 국민의힘 전대 1부 리그만 흥행하는 이유\n"
     ]
    },
    {
     "name": "stderr",
     "output_type": "stream",
     "text": [
      " 30%|██▉       | 36205/121007 [00:18<01:11, 1193.29it/s]"
     ]
    },
    {
     "name": "stdout",
     "output_type": "stream",
     "text": [
      "타이틀 곡, 왕자방탄짱하고 싶었다... 성시경, 돌연 사랑 고백\n"
     ]
    },
    {
     "name": "stderr",
     "output_type": "stream",
     "text": [
      " 31%|███       | 37161/121007 [00:19<01:09, 1202.74it/s]"
     ]
    },
    {
     "name": "stdout",
     "output_type": "stream",
     "text": [
      "가을 야구 가는 길? 마무리투수에게 물어봐\n"
     ]
    },
    {
     "name": "stderr",
     "output_type": "stream",
     "text": [
      " 32%|███▏      | 38293/121007 [00:19<00:38, 2165.99it/s]"
     ]
    },
    {
     "name": "stdout",
     "output_type": "stream",
     "text": [
      "코로나로 봉사활동 막히자 지역경제에 도움 나선 아파트관리회사\n"
     ]
    },
    {
     "name": "stderr",
     "output_type": "stream",
     "text": [
      " 33%|███▎      | 39329/121007 [00:20<00:34, 2356.75it/s]"
     ]
    },
    {
     "name": "stdout",
     "output_type": "stream",
     "text": [
      "NC우승 꿈 이룬 김택진, 트로피 들고 영웅 故최동원 찾았다\n"
     ]
    },
    {
     "name": "stderr",
     "output_type": "stream",
     "text": [
      " 33%|███▎      | 40358/121007 [00:20<00:31, 2536.10it/s]"
     ]
    },
    {
     "name": "stdout",
     "output_type": "stream",
     "text": [
      "구글, 넷플릭스법 첫 타자? 과기부 유튜브 오류 자료내라\n"
     ]
    },
    {
     "name": "stderr",
     "output_type": "stream",
     "text": [
      " 34%|███▍      | 41486/121007 [00:21<00:31, 2502.36it/s]"
     ]
    },
    {
     "name": "stdout",
     "output_type": "stream",
     "text": [
      "내가 미국 다양성의 증거 한복 입고 의원 선서한 순자씨\n"
     ]
    },
    {
     "name": "stderr",
     "output_type": "stream",
     "text": [
      " 35%|███▍      | 42332/121007 [00:21<00:28, 2717.50it/s]"
     ]
    },
    {
     "name": "stdout",
     "output_type": "stream",
     "text": [
      "실적 호조에 한양증권 23% 급등…우선주는 상한가\n"
     ]
    },
    {
     "name": "stderr",
     "output_type": "stream",
     "text": [
      " 36%|███▌      | 43190/121007 [00:21<00:38, 2018.81it/s]"
     ]
    },
    {
     "name": "stdout",
     "output_type": "stream",
     "text": [
      "제넥신, 14일 면역항암제 병용임상 중간결과 초록 공개\n"
     ]
    },
    {
     "name": "stderr",
     "output_type": "stream",
     "text": [
      " 36%|███▋      | 44122/121007 [00:22<00:55, 1394.09it/s]"
     ]
    },
    {
     "name": "stdout",
     "output_type": "stream",
     "text": [
      "전주대 박물관, 2021년 박물관 길위의 인문학 사업 8년 연속 선정\n"
     ]
    },
    {
     "name": "stderr",
     "output_type": "stream",
     "text": [
      " 37%|███▋      | 45185/121007 [00:23<00:58, 1285.17it/s]"
     ]
    },
    {
     "name": "stdout",
     "output_type": "stream",
     "text": [
      "이스타항공 새 주인에 성정…우선권 행사 예정\n"
     ]
    },
    {
     "name": "stderr",
     "output_type": "stream",
     "text": [
      " 38%|███▊      | 46220/121007 [00:24<00:58, 1270.29it/s]"
     ]
    },
    {
     "name": "stdout",
     "output_type": "stream",
     "text": [
      "원광대, 원불교 대각개교절 맞아 은혜 나눔 행사 진행\n"
     ]
    },
    {
     "name": "stderr",
     "output_type": "stream",
     "text": [
      " 39%|███▉      | 47235/121007 [00:25<00:59, 1231.96it/s]"
     ]
    },
    {
     "name": "stdout",
     "output_type": "stream",
     "text": [
      "전북도 설 연휴 코로나19 재확산 차단 응급의료서비스 가동\n"
     ]
    },
    {
     "name": "stderr",
     "output_type": "stream",
     "text": [
      " 40%|███▉      | 48237/121007 [00:25<00:58, 1240.75it/s]"
     ]
    },
    {
     "name": "stdout",
     "output_type": "stream",
     "text": [
      "쓰리박 박지성 이청용, 비 몰고 다녀…맨체스터 기운 아직도 있는 듯\n"
     ]
    },
    {
     "name": "stderr",
     "output_type": "stream",
     "text": [
      " 41%|████      | 49249/121007 [00:26<00:58, 1233.49it/s]"
     ]
    },
    {
     "name": "stdout",
     "output_type": "stream",
     "text": [
      "충북도 품질분임조 경진대회 개최\n"
     ]
    },
    {
     "name": "stderr",
     "output_type": "stream",
     "text": [
      " 41%|████▏     | 50132/121007 [00:27<00:57, 1242.63it/s]"
     ]
    },
    {
     "name": "stdout",
     "output_type": "stream",
     "text": [
      "충북콘텐츠코리아랩 아트토이 만들어보세요\n"
     ]
    },
    {
     "name": "stderr",
     "output_type": "stream",
     "text": [
      " 42%|████▏     | 51184/121007 [00:28<00:53, 1300.97it/s]"
     ]
    },
    {
     "name": "stdout",
     "output_type": "stream",
     "text": [
      "자치경찰 관계기관 회의…시·도 운영조례 등 쟁점 조정 논의\n"
     ]
    },
    {
     "name": "stderr",
     "output_type": "stream",
     "text": [
      " 43%|████▎     | 52132/121007 [00:29<00:53, 1283.38it/s]"
     ]
    },
    {
     "name": "stdout",
     "output_type": "stream",
     "text": [
      "평송청소년문화센터, 청소년 어울림마당 개최\n"
     ]
    },
    {
     "name": "stderr",
     "output_type": "stream",
     "text": [
      " 44%|████▍     | 53137/121007 [00:29<00:55, 1215.30it/s]"
     ]
    },
    {
     "name": "stdout",
     "output_type": "stream",
     "text": [
      "진천 이월 다목적체육관 3월 첫 삽\n"
     ]
    },
    {
     "name": "stderr",
     "output_type": "stream",
     "text": [
      " 45%|████▍     | 54243/121007 [00:30<00:55, 1212.99it/s]"
     ]
    },
    {
     "name": "stdout",
     "output_type": "stream",
     "text": [
      "세종 조치원지역사회보장협의체, 기부챌린지 성료\n"
     ]
    },
    {
     "name": "stderr",
     "output_type": "stream",
     "text": [
      " 46%|████▌     | 55211/121007 [00:31<00:55, 1185.58it/s]"
     ]
    },
    {
     "name": "stdout",
     "output_type": "stream",
     "text": [
      "증시 호황에 자산운용사 순익 62% 껑충…1천200조원 운용\n"
     ]
    },
    {
     "name": "stderr",
     "output_type": "stream",
     "text": [
      " 46%|████▋     | 56192/121007 [00:32<00:53, 1212.39it/s]"
     ]
    },
    {
     "name": "stdout",
     "output_type": "stream",
     "text": [
      "이재명 친일잔재 청산ㆍ역사 바로세우기로 3·1운동 정신 계승할 것\n"
     ]
    },
    {
     "name": "stderr",
     "output_type": "stream",
     "text": [
      " 47%|████▋     | 57160/121007 [00:33<00:53, 1191.01it/s]"
     ]
    },
    {
     "name": "stdout",
     "output_type": "stream",
     "text": [
      "도돌이표 찍는 경기도 철도 갈등…원인은 과도한 서울바라기?\n"
     ]
    },
    {
     "name": "stderr",
     "output_type": "stream",
     "text": [
      " 48%|████▊     | 58236/121007 [00:34<00:53, 1173.90it/s]"
     ]
    },
    {
     "name": "stdout",
     "output_type": "stream",
     "text": [
      "여당 경기 국회의원-도의원, 경기도 특별조정교부금 확보 성과 쾌거\n"
     ]
    },
    {
     "name": "stderr",
     "output_type": "stream",
     "text": [
      " 49%|████▉     | 59184/121007 [00:34<00:52, 1174.36it/s]"
     ]
    },
    {
     "name": "stdout",
     "output_type": "stream",
     "text": [
      "농협, 상반기 신규직원 400여명 채용…9일 원서 접수\n"
     ]
    },
    {
     "name": "stderr",
     "output_type": "stream",
     "text": [
      " 50%|████▉     | 60151/121007 [00:35<00:51, 1190.01it/s]"
     ]
    },
    {
     "name": "stdout",
     "output_type": "stream",
     "text": [
      "경기도, 배출가스 5등급 차량 운행제한 단속...1만5천373대 적발\n"
     ]
    },
    {
     "name": "stderr",
     "output_type": "stream",
     "text": [
      " 51%|█████     | 61237/121007 [00:36<00:50, 1187.58it/s]"
     ]
    },
    {
     "name": "stdout",
     "output_type": "stream",
     "text": [
      "내년 대·지선 달렸다 도국회의원 전원 4·7보선 최전방 투입\n"
     ]
    },
    {
     "name": "stderr",
     "output_type": "stream",
     "text": [
      " 52%|█████▏    | 62542/121007 [00:37<00:24, 2406.91it/s]"
     ]
    },
    {
     "name": "stdout",
     "output_type": "stream",
     "text": [
      "안드로이드 앱 먹통에 스마트폰 AS센터 북새통\n"
     ]
    },
    {
     "name": "stderr",
     "output_type": "stream",
     "text": [
      " 52%|█████▏    | 63404/121007 [00:37<00:23, 2486.54it/s]"
     ]
    },
    {
     "name": "stdout",
     "output_type": "stream",
     "text": [
      "김규현 강원경찰청장 사표 소청심사委 상임위원 이동\n"
     ]
    },
    {
     "name": "stderr",
     "output_type": "stream",
     "text": [
      " 53%|█████▎    | 64579/121007 [00:38<00:19, 2834.85it/s]"
     ]
    },
    {
     "name": "stdout",
     "output_type": "stream",
     "text": [
      "1분기 도내 아파트 청약경쟁률 5대 1\n"
     ]
    },
    {
     "name": "stderr",
     "output_type": "stream",
     "text": [
      " 54%|█████▍    | 65450/121007 [00:38<00:19, 2857.64it/s]"
     ]
    },
    {
     "name": "stdout",
     "output_type": "stream",
     "text": [
      "원주 학성동 예술인촌으로 탈바꿈\n"
     ]
    },
    {
     "name": "stderr",
     "output_type": "stream",
     "text": [
      " 55%|█████▍    | 66334/121007 [00:38<00:20, 2653.74it/s]"
     ]
    },
    {
     "name": "stdout",
     "output_type": "stream",
     "text": [
      "돼지열병 주범 야생 멧돼지 포획 손놓은 강원도·환경부\n"
     ]
    },
    {
     "name": "stderr",
     "output_type": "stream",
     "text": [
      " 56%|█████▌    | 67455/121007 [00:39<00:20, 2571.85it/s]"
     ]
    },
    {
     "name": "stdout",
     "output_type": "stream",
     "text": [
      "새로 문연 3개 경로당 순회 불편사항 꼼꼼 점검\n"
     ]
    },
    {
     "name": "stderr",
     "output_type": "stream",
     "text": [
      " 57%|█████▋    | 68376/121007 [00:39<00:18, 2890.83it/s]"
     ]
    },
    {
     "name": "stdout",
     "output_type": "stream",
     "text": [
      "홍지영 위원장 영화 새해전야 춘천시사회\n"
     ]
    },
    {
     "name": "stderr",
     "output_type": "stream",
     "text": [
      " 58%|█████▊    | 69623/121007 [00:39<00:16, 3066.01it/s]"
     ]
    },
    {
     "name": "stdout",
     "output_type": "stream",
     "text": [
      "농업정책 현장에 답이 있다\n"
     ]
    },
    {
     "name": "stderr",
     "output_type": "stream",
     "text": [
      " 58%|█████▊    | 70559/121007 [00:40<00:16, 3101.99it/s]"
     ]
    },
    {
     "name": "stdout",
     "output_type": "stream",
     "text": [
      "펜트하우스2 격양된 천서진, 눈물의 의미는?\n"
     ]
    },
    {
     "name": "stderr",
     "output_type": "stream",
     "text": [
      " 59%|█████▉    | 71499/121007 [00:40<00:15, 3118.34it/s]"
     ]
    },
    {
     "name": "stdout",
     "output_type": "stream",
     "text": [
      "진중권, 文대통령 사저 논란에 수준들… 저러니 망했지\n"
     ]
    },
    {
     "name": "stderr",
     "output_type": "stream",
     "text": [
      " 60%|█████▉    | 72434/121007 [00:40<00:15, 3105.59it/s]"
     ]
    },
    {
     "name": "stdout",
     "output_type": "stream",
     "text": [
      "외교부 미 애틀랜타 총격사건 교민피해 확인 중\n"
     ]
    },
    {
     "name": "stderr",
     "output_type": "stream",
     "text": [
      " 61%|██████    | 73366/121007 [00:41<00:15, 3099.17it/s]"
     ]
    },
    {
     "name": "stdout",
     "output_type": "stream",
     "text": [
      "조선구마사 역사 왜곡 논란에 나주시, 촬영장 허가 취소\n"
     ]
    },
    {
     "name": "stderr",
     "output_type": "stream",
     "text": [
      " 62%|██████▏   | 74601/121007 [00:41<00:15, 3044.29it/s]"
     ]
    },
    {
     "name": "stdout",
     "output_type": "stream",
     "text": [
      "애플 지난해 한국 앱생태계 매출 16.5조원\n"
     ]
    },
    {
     "name": "stderr",
     "output_type": "stream",
     "text": [
      " 62%|██████▏   | 75510/121007 [00:41<00:15, 2959.25it/s]"
     ]
    },
    {
     "name": "stdout",
     "output_type": "stream",
     "text": [
      "美 국립연구소, 코로나 우한 유출설에 가능성 있다 결론\n"
     ]
    },
    {
     "name": "stderr",
     "output_type": "stream",
     "text": [
      " 63%|██████▎   | 76402/121007 [00:42<00:15, 2902.77it/s]"
     ]
    },
    {
     "name": "stdout",
     "output_type": "stream",
     "text": [
      "경비행기 추락에도 생존한 사나이, 고래 입속에서도 생환\n"
     ]
    },
    {
     "name": "stderr",
     "output_type": "stream",
     "text": [
      " 64%|██████▍   | 77561/121007 [00:42<00:15, 2866.33it/s]"
     ]
    },
    {
     "name": "stdout",
     "output_type": "stream",
     "text": [
      "아름답고 완벽한 가족 사유리 아들 젠과 투샷\n"
     ]
    },
    {
     "name": "stderr",
     "output_type": "stream",
     "text": [
      " 65%|██████▍   | 78457/121007 [00:42<00:14, 2918.29it/s]"
     ]
    },
    {
     "name": "stdout",
     "output_type": "stream",
     "text": [
      "뇌출혈 중태 생후 2개월 딸 학대 혐의 父 구속영장\n"
     ]
    },
    {
     "name": "stderr",
     "output_type": "stream",
     "text": [
      " 66%|██████▌   | 79368/121007 [00:43<00:13, 2991.22it/s]"
     ]
    },
    {
     "name": "stdout",
     "output_type": "stream",
     "text": [
      "내년부터 대학입학금 폐지…국가장학금·기숙사 지원은 확대\n"
     ]
    },
    {
     "name": "stderr",
     "output_type": "stream",
     "text": [
      " 67%|██████▋   | 80590/121007 [00:43<00:13, 3018.45it/s]"
     ]
    },
    {
     "name": "stdout",
     "output_type": "stream",
     "text": [
      "전남도, 축산물 안전 강화 HACCP 컨설팅\n"
     ]
    },
    {
     "name": "stderr",
     "output_type": "stream",
     "text": [
      " 67%|██████▋   | 81490/121007 [00:43<00:13, 2945.98it/s]"
     ]
    },
    {
     "name": "stdout",
     "output_type": "stream",
     "text": [
      "받은 영예 자랑스럽게 갖고 가겠다\n"
     ]
    },
    {
     "name": "stderr",
     "output_type": "stream",
     "text": [
      " 68%|██████▊   | 82381/121007 [00:44<00:13, 2942.54it/s]"
     ]
    },
    {
     "name": "stdout",
     "output_type": "stream",
     "text": [
      "농업정책보험금융원, 농식품 크라우드펀딩 지원 확대\n"
     ]
    },
    {
     "name": "stderr",
     "output_type": "stream",
     "text": [
      " 69%|██████▉   | 83620/121007 [00:44<00:12, 3061.82it/s]"
     ]
    },
    {
     "name": "stdout",
     "output_type": "stream",
     "text": [
      "백신 접종 31만 명 돌파… 사망 보고 9건(종합)\n"
     ]
    },
    {
     "name": "stderr",
     "output_type": "stream",
     "text": [
      " 70%|██████▉   | 84547/121007 [00:44<00:11, 3082.42it/s]"
     ]
    },
    {
     "name": "stdout",
     "output_type": "stream",
     "text": [
      "신세계사이먼, 제주 프리미엄 아울렛 채용박람회 개최\n"
     ]
    },
    {
     "name": "stderr",
     "output_type": "stream",
     "text": [
      " 71%|███████   | 85484/121007 [00:45<00:11, 3104.36it/s]"
     ]
    },
    {
     "name": "stdout",
     "output_type": "stream",
     "text": [
      "부원동지역사회보장협의체, 사랑가득 전복닭죽 나눔 실시\n"
     ]
    },
    {
     "name": "stderr",
     "output_type": "stream",
     "text": [
      " 71%|███████▏  | 86417/121007 [00:45<00:11, 3088.31it/s]"
     ]
    },
    {
     "name": "stdout",
     "output_type": "stream",
     "text": [
      "중국 초저가 전기차 훙광 미니 열풍…세계 시장 노릴 수도\n"
     ]
    },
    {
     "name": "stderr",
     "output_type": "stream",
     "text": [
      " 72%|███████▏  | 87345/121007 [00:45<00:11, 3045.39it/s]"
     ]
    },
    {
     "name": "stdout",
     "output_type": "stream",
     "text": [
      "㈜고미랑·㈜아지트, 지역형 예비사회적 기업의 지역사랑 후원\n"
     ]
    },
    {
     "name": "stderr",
     "output_type": "stream",
     "text": [
      " 73%|███████▎  | 88600/121007 [00:46<00:10, 3107.08it/s]"
     ]
    },
    {
     "name": "stdout",
     "output_type": "stream",
     "text": [
      "부산진구, No담배꽁초 Zero플라스틱 사업 추진 업무 협약\n"
     ]
    },
    {
     "name": "stderr",
     "output_type": "stream",
     "text": [
      " 74%|███████▍  | 89539/121007 [00:46<00:10, 3106.91it/s]"
     ]
    },
    {
     "name": "stdout",
     "output_type": "stream",
     "text": [
      "사상구 삼락벚꽃축제추진위원회, 삼덕초 학생들과 함께하는 삼락벚꽃 가족사진 콘테스트 시상식 개최\n"
     ]
    },
    {
     "name": "stderr",
     "output_type": "stream",
     "text": [
      " 75%|███████▍  | 90457/121007 [00:46<00:10, 2982.38it/s]"
     ]
    },
    {
     "name": "stdout",
     "output_type": "stream",
     "text": [
      "사천 제2산단 복합문화센터 밑그림 나왔다\n"
     ]
    },
    {
     "name": "stderr",
     "output_type": "stream",
     "text": [
      " 75%|███████▌  | 91352/121007 [00:47<00:10, 2918.96it/s]"
     ]
    },
    {
     "name": "stdout",
     "output_type": "stream",
     "text": [
      "성기진 동명산업 대표 동아대 발전기금 1000만 원\n"
     ]
    },
    {
     "name": "stderr",
     "output_type": "stream",
     "text": [
      " 76%|███████▋  | 92500/121007 [00:47<00:10, 2760.90it/s]"
     ]
    },
    {
     "name": "stdout",
     "output_type": "stream",
     "text": [
      "김해시, 업무추진비 선결제 솔선수범에 동참 늘어\n"
     ]
    },
    {
     "name": "stderr",
     "output_type": "stream",
     "text": [
      " 77%|███████▋  | 93389/121007 [00:47<00:09, 2894.85it/s]"
     ]
    },
    {
     "name": "stdout",
     "output_type": "stream",
     "text": [
      "해양환경공단, 설맞이 지역사회 이웃사랑 실천\n"
     ]
    },
    {
     "name": "stderr",
     "output_type": "stream",
     "text": [
      " 78%|███████▊  | 94629/121007 [00:48<00:08, 3056.88it/s]"
     ]
    },
    {
     "name": "stdout",
     "output_type": "stream",
     "text": [
      "혼획·폐사 막아라… 웃는 돌고래 상괭이 보호 대작전 펼친다\n"
     ]
    },
    {
     "name": "stderr",
     "output_type": "stream",
     "text": [
      " 79%|███████▉  | 95548/121007 [00:48<00:08, 3024.71it/s]"
     ]
    },
    {
     "name": "stdout",
     "output_type": "stream",
     "text": [
      "정부 내일 거리두기·설연휴 특별방역대책 조정안 발표\n"
     ]
    },
    {
     "name": "stderr",
     "output_type": "stream",
     "text": [
      " 80%|███████▉  | 96462/121007 [00:48<00:08, 2986.34it/s]"
     ]
    },
    {
     "name": "stdout",
     "output_type": "stream",
     "text": [
      "빛의 연쇄증폭반응 보이는 광사태 나노입자 세계 최초 발견\n"
     ]
    },
    {
     "name": "stderr",
     "output_type": "stream",
     "text": [
      " 80%|████████  | 97355/121007 [00:49<00:08, 2952.26it/s]"
     ]
    },
    {
     "name": "stdout",
     "output_type": "stream",
     "text": [
      "이강섭 법제처장 정부기관 법령입안 선제적으로 지원\n"
     ]
    },
    {
     "name": "stderr",
     "output_type": "stream",
     "text": [
      " 81%|████████▏ | 98539/121007 [00:49<00:07, 2928.69it/s]"
     ]
    },
    {
     "name": "stdout",
     "output_type": "stream",
     "text": [
      "한밤중 부산 광안동 아파트 고층서 불…주민 150명 대피 소동\n"
     ]
    },
    {
     "name": "stderr",
     "output_type": "stream",
     "text": [
      " 82%|████████▏ | 99421/121007 [00:49<00:07, 2930.55it/s]"
     ]
    },
    {
     "name": "stdout",
     "output_type": "stream",
     "text": [
      "우즈 새 앨범 만족도? 95%\n"
     ]
    },
    {
     "name": "stderr",
     "output_type": "stream",
     "text": [
      " 83%|████████▎ | 100627/121007 [00:50<00:06, 3010.07it/s]"
     ]
    },
    {
     "name": "stdout",
     "output_type": "stream",
     "text": [
      "지안, 새 프로필 속 몽환美\n"
     ]
    },
    {
     "name": "stderr",
     "output_type": "stream",
     "text": [
      " 84%|████████▍ | 101544/121007 [00:50<00:06, 3038.82it/s]"
     ]
    },
    {
     "name": "stdout",
     "output_type": "stream",
     "text": [
      "오세훈보다 더 빨간 넥타이 맨 안철수... 국힘 의총서 뜨겁게 포옹\n"
     ]
    },
    {
     "name": "stderr",
     "output_type": "stream",
     "text": [
      " 85%|████████▍ | 102462/121007 [00:50<00:06, 3047.51it/s]"
     ]
    },
    {
     "name": "stdout",
     "output_type": "stream",
     "text": [
      "엠카 NCT 드림, 맛으로 1위\n"
     ]
    },
    {
     "name": "stderr",
     "output_type": "stream",
     "text": [
      " 85%|████████▌ | 103394/121007 [00:51<00:05, 3080.75it/s]"
     ]
    },
    {
     "name": "stdout",
     "output_type": "stream",
     "text": [
      "박원, 故 박지선과의 대화를 가사로…추모곡 발표\n"
     ]
    },
    {
     "name": "stderr",
     "output_type": "stream",
     "text": [
      " 86%|████████▋ | 104641/121007 [00:51<00:05, 3110.53it/s]"
     ]
    },
    {
     "name": "stdout",
     "output_type": "stream",
     "text": [
      "4차 대유행 본격화 감염재생산지수 1.11로 올라\n"
     ]
    },
    {
     "name": "stderr",
     "output_type": "stream",
     "text": [
      " 87%|████████▋ | 105575/121007 [00:51<00:04, 3095.47it/s]"
     ]
    },
    {
     "name": "stdout",
     "output_type": "stream",
     "text": [
      "허지웅 쇼 소연 티아라 시절 제 노래를 듣고 소주가 생각난다고 하더라\n"
     ]
    },
    {
     "name": "stderr",
     "output_type": "stream",
     "text": [
      " 88%|████████▊ | 106519/121007 [00:52<00:04, 3124.12it/s]"
     ]
    },
    {
     "name": "stdout",
     "output_type": "stream",
     "text": [
      "미우새 김옥빈 미스코리아 추천 받았다 미모 부심\n"
     ]
    },
    {
     "name": "stderr",
     "output_type": "stream",
     "text": [
      " 89%|████████▉ | 107453/121007 [00:52<00:04, 3055.33it/s]"
     ]
    },
    {
     "name": "stdout",
     "output_type": "stream",
     "text": [
      "故 제이윤 장례식, 16일부터 비공개 진행...유족 뜻 따라\n"
     ]
    },
    {
     "name": "stderr",
     "output_type": "stream",
     "text": [
      " 90%|████████▉ | 108382/121007 [00:52<00:04, 3057.20it/s]"
     ]
    },
    {
     "name": "stdout",
     "output_type": "stream",
     "text": [
      "인권위 사형제 폐지해야 헌재에 의견 제출\n"
     ]
    },
    {
     "name": "stderr",
     "output_type": "stream",
     "text": [
      " 91%|█████████ | 109643/121007 [00:53<00:03, 3123.96it/s]"
     ]
    },
    {
     "name": "stdout",
     "output_type": "stream",
     "text": [
      "동상이몽2 전진♥류이서, 홍서범의 첫 키스 장소 질문에 삐긋\n"
     ]
    },
    {
     "name": "stderr",
     "output_type": "stream",
     "text": [
      " 91%|█████████▏| 110583/121007 [00:53<00:03, 3120.53it/s]"
     ]
    },
    {
     "name": "stdout",
     "output_type": "stream",
     "text": [
      "중대재해법도 통과됐는데 ... 고용부, 사망사고난 현대중공업 집중감독 착수\n"
     ]
    },
    {
     "name": "stderr",
     "output_type": "stream",
     "text": [
      " 92%|█████████▏| 111535/121007 [00:53<00:03, 3142.98it/s]"
     ]
    },
    {
     "name": "stdout",
     "output_type": "stream",
     "text": [
      "컬투쇼 제이쓴 홍현희, 개그우먼 된 후로 적금 절대 안 든다\n"
     ]
    },
    {
     "name": "stderr",
     "output_type": "stream",
     "text": [
      " 93%|█████████▎| 112469/121007 [00:54<00:02, 3049.20it/s]"
     ]
    },
    {
     "name": "stdout",
     "output_type": "stream",
     "text": [
      "권갑용·김형우, 한국 프로바둑 99·100번째 입신\n"
     ]
    },
    {
     "name": "stderr",
     "output_type": "stream",
     "text": [
      " 94%|█████████▎| 113388/121007 [00:54<00:02, 3045.48it/s]"
     ]
    },
    {
     "name": "stdout",
     "output_type": "stream",
     "text": [
      "女솔로 전성시대 아이유→현아, 연초 가요계 주인공 된 디바들\n"
     ]
    },
    {
     "name": "stderr",
     "output_type": "stream",
     "text": [
      " 95%|█████████▍| 114614/121007 [00:54<00:02, 3048.12it/s]"
     ]
    },
    {
     "name": "stdout",
     "output_type": "stream",
     "text": [
      "찐경규 광희→안영미, 이경규-서장훈-이수근이 뽑은 차세대 국민 MC는?\n"
     ]
    },
    {
     "name": "stderr",
     "output_type": "stream",
     "text": [
      " 95%|█████████▌| 115542/121007 [00:55<00:01, 3079.23it/s]"
     ]
    },
    {
     "name": "stdout",
     "output_type": "stream",
     "text": [
      "탁현민 조율없는 기자회견, 이전 정부는 시도조차 안 해\n"
     ]
    },
    {
     "name": "stderr",
     "output_type": "stream",
     "text": [
      " 96%|█████████▋| 116473/121007 [00:55<00:01, 3091.17it/s]"
     ]
    },
    {
     "name": "stdout",
     "output_type": "stream",
     "text": [
      "TV는 사랑을 싣고 차태현母 성우 최수민, 새해 첫 의뢰인으로 출연\n"
     ]
    },
    {
     "name": "stderr",
     "output_type": "stream",
     "text": [
      " 97%|█████████▋| 117413/121007 [00:55<00:01, 3111.92it/s]"
     ]
    },
    {
     "name": "stdout",
     "output_type": "stream",
     "text": [
      "GC녹십자랩셀, 미국 MSD에 2조원대 세포치료제 기술 수출\n"
     ]
    },
    {
     "name": "stderr",
     "output_type": "stream",
     "text": [
      " 98%|█████████▊| 118345/121007 [00:56<00:00, 3087.89it/s]"
     ]
    },
    {
     "name": "stdout",
     "output_type": "stream",
     "text": [
      "WHO 영국발 코로나19 변이, 70개국으로 확산\n"
     ]
    },
    {
     "name": "stderr",
     "output_type": "stream",
     "text": [
      " 99%|█████████▉| 119572/121007 [00:56<00:00, 3045.33it/s]"
     ]
    },
    {
     "name": "stdout",
     "output_type": "stream",
     "text": [
      "정부, 올해 경찰·교원·생활안전 국가공무원 8345명 증원\n"
     ]
    },
    {
     "name": "stderr",
     "output_type": "stream",
     "text": [
      "100%|█████████▉| 120484/121007 [00:56<00:00, 3021.96it/s]"
     ]
    },
    {
     "name": "stdout",
     "output_type": "stream",
     "text": [
      "한전 안부살핌 서비스 빅데이터로 고독사 막아\n"
     ]
    },
    {
     "name": "stderr",
     "output_type": "stream",
     "text": [
      "100%|██████████| 121007/121007 [00:56<00:00, 2126.68it/s]"
     ]
    },
    {
     "name": "stdout",
     "output_type": "stream",
     "text": [
      "광주지역문제해결플랫폼 18개 의제 제안\n"
     ]
    },
    {
     "name": "stderr",
     "output_type": "stream",
     "text": [
      "\n"
     ]
    },
    {
     "data": {
      "text/html": [
       "<div>\n",
       "<style scoped>\n",
       "    .dataframe tbody tr th:only-of-type {\n",
       "        vertical-align: middle;\n",
       "    }\n",
       "\n",
       "    .dataframe tbody tr th {\n",
       "        vertical-align: top;\n",
       "    }\n",
       "\n",
       "    .dataframe thead th {\n",
       "        text-align: right;\n",
       "    }\n",
       "</style>\n",
       "<table border=\"1\" class=\"dataframe\">\n",
       "  <thead>\n",
       "    <tr style=\"text-align: right;\">\n",
       "      <th></th>\n",
       "      <th>input_text</th>\n",
       "      <th>predefined_news_category</th>\n",
       "      <th>target</th>\n",
       "    </tr>\n",
       "  </thead>\n",
       "  <tbody>\n",
       "    <tr>\n",
       "      <th>0</th>\n",
       "      <td>시진핑엔 선물, 바이든엔 모욕… 유럽의회서 막힌 中·EU투자협정</td>\n",
       "      <td>세계</td>\n",
       "      <td>4</td>\n",
       "    </tr>\n",
       "    <tr>\n",
       "      <th>1</th>\n",
       "      <td>김경수 분노…내가 문 대통령께 반발? 참 희한한 일</td>\n",
       "      <td>정치</td>\n",
       "      <td>6</td>\n",
       "    </tr>\n",
       "    <tr>\n",
       "      <th>2</th>\n",
       "      <td>오늘부터 사라진 네이버 실검…빈자리엔 날씨와 주가</td>\n",
       "      <td>IT과학</td>\n",
       "      <td>0</td>\n",
       "    </tr>\n",
       "    <tr>\n",
       "      <th>3</th>\n",
       "      <td>경남도, 신혼 반값 임대주택 공급 확대</td>\n",
       "      <td>사회</td>\n",
       "      <td>2</td>\n",
       "    </tr>\n",
       "    <tr>\n",
       "      <th>4</th>\n",
       "      <td>작년 3분기 일자리 늘었다는데… 2030 일자리만 15만개 감소</td>\n",
       "      <td>경제</td>\n",
       "      <td>1</td>\n",
       "    </tr>\n",
       "    <tr>\n",
       "      <th>5</th>\n",
       "      <td>327억원 흑자, 수신료 수입도 85억↑…부족하다는 KBS</td>\n",
       "      <td>경제</td>\n",
       "      <td>1</td>\n",
       "    </tr>\n",
       "    <tr>\n",
       "      <th>6</th>\n",
       "      <td>엠카운트다운 선미, 역대급 퍼포먼스로 컴백 무대</td>\n",
       "      <td>생활문화</td>\n",
       "      <td>3</td>\n",
       "    </tr>\n",
       "    <tr>\n",
       "      <th>7</th>\n",
       "      <td>브레이크 고장 이삿짐 차 인도 돌진…60대 행인 부상</td>\n",
       "      <td>사회</td>\n",
       "      <td>2</td>\n",
       "    </tr>\n",
       "    <tr>\n",
       "      <th>8</th>\n",
       "      <td>기본주택 또 강조한 이재명…국회에서 관련 법도 발의</td>\n",
       "      <td>정치</td>\n",
       "      <td>6</td>\n",
       "    </tr>\n",
       "    <tr>\n",
       "      <th>9</th>\n",
       "      <td>서울 유치원~초등 2학년 새 학기부터 매일 등교</td>\n",
       "      <td>사회</td>\n",
       "      <td>2</td>\n",
       "    </tr>\n",
       "    <tr>\n",
       "      <th>10</th>\n",
       "      <td>넷플릭스 한해 5500억원 투자, K콘텐츠 이미 세계적</td>\n",
       "      <td>생활문화</td>\n",
       "      <td>3</td>\n",
       "    </tr>\n",
       "    <tr>\n",
       "      <th>11</th>\n",
       "      <td>대구시 965억원 투입해 스마트시티 탈바꿈</td>\n",
       "      <td>IT과학</td>\n",
       "      <td>0</td>\n",
       "    </tr>\n",
       "    <tr>\n",
       "      <th>12</th>\n",
       "      <td>지난해 인구 순유입… 정착하고 싶은 도시 만들겠다</td>\n",
       "      <td>사회</td>\n",
       "      <td>2</td>\n",
       "    </tr>\n",
       "    <tr>\n",
       "      <th>13</th>\n",
       "      <td>박지수, 우승 놓쳤지만 독무대…MVP·최초 7관왕 달성</td>\n",
       "      <td>스포츠</td>\n",
       "      <td>5</td>\n",
       "    </tr>\n",
       "    <tr>\n",
       "      <th>14</th>\n",
       "      <td>LG전자 공기과학연구소, 업계 최초로 국가 공인</td>\n",
       "      <td>IT과학</td>\n",
       "      <td>0</td>\n",
       "    </tr>\n",
       "    <tr>\n",
       "      <th>15</th>\n",
       "      <td>지역 맞춤형 R&amp;D 투자 전략 수립 미래 먹거리 발굴 나선다</td>\n",
       "      <td>사회</td>\n",
       "      <td>2</td>\n",
       "    </tr>\n",
       "    <tr>\n",
       "      <th>16</th>\n",
       "      <td>김정은, 해·공군 사령관 세대교체…젊은 피로 친정체제 강화</td>\n",
       "      <td>정치</td>\n",
       "      <td>6</td>\n",
       "    </tr>\n",
       "    <tr>\n",
       "      <th>17</th>\n",
       "      <td>MB 이후 11년 만에 다시 뜬 광명·시흥 신도시</td>\n",
       "      <td>경제</td>\n",
       "      <td>1</td>\n",
       "    </tr>\n",
       "    <tr>\n",
       "      <th>18</th>\n",
       "      <td>김해 미래 100년 설계 토대 구축 최선</td>\n",
       "      <td>사회</td>\n",
       "      <td>2</td>\n",
       "    </tr>\n",
       "    <tr>\n",
       "      <th>19</th>\n",
       "      <td>김정태 회장, 하나금융 1년 더 이끈다</td>\n",
       "      <td>경제</td>\n",
       "      <td>1</td>\n",
       "    </tr>\n",
       "    <tr>\n",
       "      <th>20</th>\n",
       "      <td>부산항만공사·IBK기업은행, 상생펀드 140억원 조성</td>\n",
       "      <td>경제</td>\n",
       "      <td>1</td>\n",
       "    </tr>\n",
       "    <tr>\n",
       "      <th>21</th>\n",
       "      <td>정수장서 수도꼭지까지 수질·수량 실시간 감시망 연내 구축</td>\n",
       "      <td>사회</td>\n",
       "      <td>2</td>\n",
       "    </tr>\n",
       "    <tr>\n",
       "      <th>22</th>\n",
       "      <td>김제동이 500만원 낸 정당은? 민주·정의 아닌 미래당</td>\n",
       "      <td>정치</td>\n",
       "      <td>6</td>\n",
       "    </tr>\n",
       "    <tr>\n",
       "      <th>23</th>\n",
       "      <td>한·몽 국제산림협력사업, 평가결과 매우 성공적</td>\n",
       "      <td>사회</td>\n",
       "      <td>2</td>\n",
       "    </tr>\n",
       "    <tr>\n",
       "      <th>24</th>\n",
       "      <td>목줄 안한 개가 사람 물어 전치 12주…견주 벌금 300만원</td>\n",
       "      <td>사회</td>\n",
       "      <td>2</td>\n",
       "    </tr>\n",
       "    <tr>\n",
       "      <th>25</th>\n",
       "      <td>그린 경제 중심으로 산업 생태계 바꾸기 큰 걸음</td>\n",
       "      <td>사회</td>\n",
       "      <td>2</td>\n",
       "    </tr>\n",
       "    <tr>\n",
       "      <th>26</th>\n",
       "      <td>홍남기 도시공원과 그린벨트 내 수소충전소 허용</td>\n",
       "      <td>정치</td>\n",
       "      <td>6</td>\n",
       "    </tr>\n",
       "    <tr>\n",
       "      <th>27</th>\n",
       "      <td>파주메디컬클러스터 조성 사업 본격화…2024년 완료 목표</td>\n",
       "      <td>사회</td>\n",
       "      <td>2</td>\n",
       "    </tr>\n",
       "    <tr>\n",
       "      <th>28</th>\n",
       "      <td>뿔난 윤건영…문재인 정부, 북한에 준 것 없어 반박</td>\n",
       "      <td>정치</td>\n",
       "      <td>6</td>\n",
       "    </tr>\n",
       "    <tr>\n",
       "      <th>29</th>\n",
       "      <td>베이비박스 버려진 생후 8일 신생아를…자원봉사자 입건</td>\n",
       "      <td>사회</td>\n",
       "      <td>2</td>\n",
       "    </tr>\n",
       "    <tr>\n",
       "      <th>30</th>\n",
       "      <td>해맑은 상상으로 영남알프스·스마트 그린도시 조성한다</td>\n",
       "      <td>사회</td>\n",
       "      <td>2</td>\n",
       "    </tr>\n",
       "    <tr>\n",
       "      <th>31</th>\n",
       "      <td>26일 첫 백신 접종… 이천 물류센터서 전국 배송 시작</td>\n",
       "      <td>사회</td>\n",
       "      <td>2</td>\n",
       "    </tr>\n",
       "    <tr>\n",
       "      <th>32</th>\n",
       "      <td>가덕신공항 특별법 앞 여전히 자중지란 국민의힘</td>\n",
       "      <td>정치</td>\n",
       "      <td>6</td>\n",
       "    </tr>\n",
       "    <tr>\n",
       "      <th>33</th>\n",
       "      <td>정청래 문재인은 박정희가 아니다…부산행 시비 말라</td>\n",
       "      <td>정치</td>\n",
       "      <td>6</td>\n",
       "    </tr>\n",
       "    <tr>\n",
       "      <th>34</th>\n",
       "      <td>내일 최소 5266명 AZ 백신 맞는다…동의율 93.7%</td>\n",
       "      <td>사회</td>\n",
       "      <td>2</td>\n",
       "    </tr>\n",
       "    <tr>\n",
       "      <th>35</th>\n",
       "      <td>배우 이영애, 軍 출신 의원에 500만원씩 후원…왜?</td>\n",
       "      <td>정치</td>\n",
       "      <td>6</td>\n",
       "    </tr>\n",
       "    <tr>\n",
       "      <th>36</th>\n",
       "      <td>검찰개혁 완수 고리… 국정 주도권, 청와대에서 민주당으로</td>\n",
       "      <td>정치</td>\n",
       "      <td>6</td>\n",
       "    </tr>\n",
       "    <tr>\n",
       "      <th>37</th>\n",
       "      <td>폭발직전 덤프트럭 직접 몰아 대형화재 막은 소방관</td>\n",
       "      <td>사회</td>\n",
       "      <td>2</td>\n",
       "    </tr>\n",
       "    <tr>\n",
       "      <th>38</th>\n",
       "      <td>김경욱 보안검색원 직고용 단기간에 안 돼</td>\n",
       "      <td>경제</td>\n",
       "      <td>1</td>\n",
       "    </tr>\n",
       "    <tr>\n",
       "      <th>39</th>\n",
       "      <td>독일서 아스트라제네카 백신 85% 방치중…왜?</td>\n",
       "      <td>세계</td>\n",
       "      <td>4</td>\n",
       "    </tr>\n",
       "    <tr>\n",
       "      <th>40</th>\n",
       "      <td>금감원 라임펀드 판 우리·기업銀, 65~78% 배상하라</td>\n",
       "      <td>경제</td>\n",
       "      <td>1</td>\n",
       "    </tr>\n",
       "    <tr>\n",
       "      <th>41</th>\n",
       "      <td>한미연합훈련 연기·취소 없이 남북대화 복원 어렵다</td>\n",
       "      <td>정치</td>\n",
       "      <td>6</td>\n",
       "    </tr>\n",
       "    <tr>\n",
       "      <th>42</th>\n",
       "      <td>부산형 일자리 모델…정부 상생형 지역일자리 선정</td>\n",
       "      <td>경제</td>\n",
       "      <td>1</td>\n",
       "    </tr>\n",
       "    <tr>\n",
       "      <th>43</th>\n",
       "      <td>호주, 세계 최초로 구글·페이스북에 뉴스 사용료 물린다</td>\n",
       "      <td>IT과학</td>\n",
       "      <td>0</td>\n",
       "    </tr>\n",
       "    <tr>\n",
       "      <th>44</th>\n",
       "      <td>제주행 AZ백신 0.5도 벗어났지만 동결 안돼…추후 사용</td>\n",
       "      <td>사회</td>\n",
       "      <td>2</td>\n",
       "    </tr>\n",
       "    <tr>\n",
       "      <th>45</th>\n",
       "      <td>정현복 광양시장, 직원들과 눈 높이 소통 호평</td>\n",
       "      <td>사회</td>\n",
       "      <td>2</td>\n",
       "    </tr>\n",
       "    <tr>\n",
       "      <th>46</th>\n",
       "      <td>변화와 혁신으로 군민의 행복 지켜나갈 것</td>\n",
       "      <td>사회</td>\n",
       "      <td>2</td>\n",
       "    </tr>\n",
       "    <tr>\n",
       "      <th>47</th>\n",
       "      <td>내리막길 질주하다 차량 수차례 굴러… 다리 중상 입고 대수술</td>\n",
       "      <td>세계</td>\n",
       "      <td>4</td>\n",
       "    </tr>\n",
       "    <tr>\n",
       "      <th>48</th>\n",
       "      <td>코로나로 끊긴 환동해 바닷길 다시 잇는다</td>\n",
       "      <td>사회</td>\n",
       "      <td>2</td>\n",
       "    </tr>\n",
       "    <tr>\n",
       "      <th>49</th>\n",
       "      <td>화이자 백신, 실제 임상서도 효력 90% 넘어…120만명 분석</td>\n",
       "      <td>세계</td>\n",
       "      <td>4</td>\n",
       "    </tr>\n",
       "  </tbody>\n",
       "</table>\n",
       "</div>"
      ],
      "text/plain": [
       "                             input_text predefined_news_category  target\n",
       "0   시진핑엔 선물, 바이든엔 모욕… 유럽의회서 막힌 中·EU투자협정                       세계       4\n",
       "1          김경수 분노…내가 문 대통령께 반발? 참 희한한 일                       정치       6\n",
       "2           오늘부터 사라진 네이버 실검…빈자리엔 날씨와 주가                     IT과학       0\n",
       "3                 경남도, 신혼 반값 임대주택 공급 확대                       사회       2\n",
       "4   작년 3분기 일자리 늘었다는데… 2030 일자리만 15만개 감소                       경제       1\n",
       "5      327억원 흑자, 수신료 수입도 85억↑…부족하다는 KBS                       경제       1\n",
       "6            엠카운트다운 선미, 역대급 퍼포먼스로 컴백 무대                     생활문화       3\n",
       "7         브레이크 고장 이삿짐 차 인도 돌진…60대 행인 부상                       사회       2\n",
       "8          기본주택 또 강조한 이재명…국회에서 관련 법도 발의                       정치       6\n",
       "9            서울 유치원~초등 2학년 새 학기부터 매일 등교                       사회       2\n",
       "10       넷플릭스 한해 5500억원 투자, K콘텐츠 이미 세계적                     생활문화       3\n",
       "11              대구시 965억원 투입해 스마트시티 탈바꿈                     IT과학       0\n",
       "12          지난해 인구 순유입… 정착하고 싶은 도시 만들겠다                       사회       2\n",
       "13       박지수, 우승 놓쳤지만 독무대…MVP·최초 7관왕 달성                      스포츠       5\n",
       "14           LG전자 공기과학연구소, 업계 최초로 국가 공인                     IT과학       0\n",
       "15    지역 맞춤형 R&D 투자 전략 수립 미래 먹거리 발굴 나선다                       사회       2\n",
       "16     김정은, 해·공군 사령관 세대교체…젊은 피로 친정체제 강화                       정치       6\n",
       "17          MB 이후 11년 만에 다시 뜬 광명·시흥 신도시                       경제       1\n",
       "18               김해 미래 100년 설계 토대 구축 최선                       사회       2\n",
       "19                김정태 회장, 하나금융 1년 더 이끈다                       경제       1\n",
       "20        부산항만공사·IBK기업은행, 상생펀드 140억원 조성                       경제       1\n",
       "21      정수장서 수도꼭지까지 수질·수량 실시간 감시망 연내 구축                       사회       2\n",
       "22       김제동이 500만원 낸 정당은? 민주·정의 아닌 미래당                       정치       6\n",
       "23            한·몽 국제산림협력사업, 평가결과 매우 성공적                       사회       2\n",
       "24    목줄 안한 개가 사람 물어 전치 12주…견주 벌금 300만원                       사회       2\n",
       "25           그린 경제 중심으로 산업 생태계 바꾸기 큰 걸음                       사회       2\n",
       "26            홍남기 도시공원과 그린벨트 내 수소충전소 허용                       정치       6\n",
       "27      파주메디컬클러스터 조성 사업 본격화…2024년 완료 목표                       사회       2\n",
       "28         뿔난 윤건영…문재인 정부, 북한에 준 것 없어 반박                       정치       6\n",
       "29        베이비박스 버려진 생후 8일 신생아를…자원봉사자 입건                       사회       2\n",
       "30         해맑은 상상으로 영남알프스·스마트 그린도시 조성한다                       사회       2\n",
       "31       26일 첫 백신 접종… 이천 물류센터서 전국 배송 시작                       사회       2\n",
       "32            가덕신공항 특별법 앞 여전히 자중지란 국민의힘                       정치       6\n",
       "33          정청래 문재인은 박정희가 아니다…부산행 시비 말라                       정치       6\n",
       "34      내일 최소 5266명 AZ 백신 맞는다…동의율 93.7%                       사회       2\n",
       "35        배우 이영애, 軍 출신 의원에 500만원씩 후원…왜?                       정치       6\n",
       "36      검찰개혁 완수 고리… 국정 주도권, 청와대에서 민주당으로                       정치       6\n",
       "37          폭발직전 덤프트럭 직접 몰아 대형화재 막은 소방관                       사회       2\n",
       "38               김경욱 보안검색원 직고용 단기간에 안 돼                       경제       1\n",
       "39            독일서 아스트라제네카 백신 85% 방치중…왜?                       세계       4\n",
       "40       금감원 라임펀드 판 우리·기업銀, 65~78% 배상하라                       경제       1\n",
       "41          한미연합훈련 연기·취소 없이 남북대화 복원 어렵다                       정치       6\n",
       "42           부산형 일자리 모델…정부 상생형 지역일자리 선정                       경제       1\n",
       "43       호주, 세계 최초로 구글·페이스북에 뉴스 사용료 물린다                     IT과학       0\n",
       "44      제주행 AZ백신 0.5도 벗어났지만 동결 안돼…추후 사용                       사회       2\n",
       "45            정현복 광양시장, 직원들과 눈 높이 소통 호평                       사회       2\n",
       "46               변화와 혁신으로 군민의 행복 지켜나갈 것                       사회       2\n",
       "47    내리막길 질주하다 차량 수차례 굴러… 다리 중상 입고 대수술                       세계       4\n",
       "48               코로나로 끊긴 환동해 바닷길 다시 잇는다                       사회       2\n",
       "49   화이자 백신, 실제 임상서도 효력 90% 넘어…120만명 분석                       세계       4"
      ]
     },
     "execution_count": 13,
     "metadata": {},
     "output_type": "execute_result"
    }
   ],
   "source": [
    "for idx, n in tqdm(news.iterrows(), total=len(news)):\n",
    "    news.iloc[idx].input_text = n.input_text.replace('\"', '')\n",
    "    news.iloc[idx].input_text = news.iloc[idx].input_text.strip()"
   ]
  },
  {
   "cell_type": "code",
   "execution_count": 54,
   "metadata": {},
   "outputs": [],
   "source": [
    "news_science = news[news.predefined_news_category == labels[0]]\n",
    "news_economic = news[news.predefined_news_category == labels[1]]\n",
    "news_society = news[news.predefined_news_category == labels[2]]\n",
    "news_culture = news[news.predefined_news_category == labels[3]]\n",
    "news_world = news[news.predefined_news_category == labels[4]]\n",
    "news_sports = news[news.predefined_news_category == labels[5]]\n",
    "news_politic = news[news.predefined_news_category == labels[6]]\n",
    "\n",
    "klue_train = pd.read_csv('../data/train_v0.12.1.csv')\n",
    "klue_valid = pd.read_csv('../data/valid_v0.12.1.csv')\n",
    "klue = pd.concat([klue_train, klue_valid], ignore_index=True)\n",
    "\n",
    "klue_science = klue[klue.target == 0]\n",
    "klue_economic = klue[klue.target == 1]\n",
    "klue_society = klue[klue.target == 2]\n",
    "klue_culture = klue[klue.target == 3]\n",
    "klue_world = klue[klue.target == 4]\n",
    "klue_sports = klue[klue.target == 5]\n",
    "klue_politic = klue[klue.target == 6]"
   ]
  },
  {
   "cell_type": "code",
   "execution_count": 49,
   "metadata": {},
   "outputs": [
    {
     "data": {
      "text/html": [
       "<div>\n",
       "<style scoped>\n",
       "    .dataframe tbody tr th:only-of-type {\n",
       "        vertical-align: middle;\n",
       "    }\n",
       "\n",
       "    .dataframe tbody tr th {\n",
       "        vertical-align: top;\n",
       "    }\n",
       "\n",
       "    .dataframe thead th {\n",
       "        text-align: right;\n",
       "    }\n",
       "</style>\n",
       "<table border=\"1\" class=\"dataframe\">\n",
       "  <thead>\n",
       "    <tr style=\"text-align: right;\">\n",
       "      <th></th>\n",
       "      <th>hub</th>\n",
       "      <th>klue</th>\n",
       "    </tr>\n",
       "  </thead>\n",
       "  <tbody>\n",
       "    <tr>\n",
       "      <th>14</th>\n",
       "      <td>LG전자 공기과학연구소, 업계 최초로 국가 공인</td>\n",
       "      <td>네이버 자율차 첫 공개…완전 자동주행 목표로 달려요종합</td>\n",
       "    </tr>\n",
       "    <tr>\n",
       "      <th>107</th>\n",
       "      <td>정부, 전기차와 수소차 규제 완화</td>\n",
       "      <td>그래픽 네이버 모바일 첫 화면 개편 내용종합</td>\n",
       "    </tr>\n",
       "    <tr>\n",
       "      <th>120</th>\n",
       "      <td>K콘텐츠 5500억 베팅…넷플릭스 한국 영화 라인업 공개</td>\n",
       "      <td>5G 만난 스마트 카…MWC서도 흥행몰이 이어질까</td>\n",
       "    </tr>\n",
       "    <tr>\n",
       "      <th>121</th>\n",
       "      <td>목원대, 중부권 최초 AI 로봇 전문인력 양성기관 선정</td>\n",
       "      <td>스마트폰·태블릿PC 인증표시도 이제 디스플레이화</td>\n",
       "    </tr>\n",
       "    <tr>\n",
       "      <th>148</th>\n",
       "      <td>산재 특화 첨단연구 인프라 조성 바이오메디컬 산업 선도</td>\n",
       "      <td>음성으로 상품결제까지…KT롯데닷컴 AI 쇼핑서비스 맞손</td>\n",
       "    </tr>\n",
       "    <tr>\n",
       "      <th>165</th>\n",
       "      <td>경기도, 제조업 근간 뿌리산업 경쟁력 강화 지원</td>\n",
       "      <td>T맵 2시간 접속장애…SK텔레콤 3만3천명에 주유권 보상</td>\n",
       "    </tr>\n",
       "    <tr>\n",
       "      <th>633</th>\n",
       "      <td>코로나 집콕으로 빈집털이 절반 가까이 줄었다</td>\n",
       "      <td>다공성 금속구조체 전극으로 리튬전지 용량 2배 향상</td>\n",
       "    </tr>\n",
       "    <tr>\n",
       "      <th>1048</th>\n",
       "      <td>올해 창원경제 V-턴 반등과 플러스 성장 원년 실현은 창원국가산단이 이끈다</td>\n",
       "      <td>유영민 과기 통신3사 CEO들에 5G 협력요청</td>\n",
       "    </tr>\n",
       "    <tr>\n",
       "      <th>1063</th>\n",
       "      <td>도심 속 푸르고 깨끗한 환경 제공으로 녹색도시 진해 구현</td>\n",
       "      <td>SK텔레콤 유럽에 1천400㎞ 양자암호 통신망 구축종합</td>\n",
       "    </tr>\n",
       "    <tr>\n",
       "      <th>1198</th>\n",
       "      <td>삼성전자, 2021년 삼성 주니어 SW 아카데미 개강</td>\n",
       "      <td>아이폰X 4분기 4천만∼5천만대 판매 전망…1위 유력</td>\n",
       "    </tr>\n",
       "    <tr>\n",
       "      <th>1438</th>\n",
       "      <td>정원 감축·폐과·특성화로… 지역 대학 생존 몸부림</td>\n",
       "      <td>삼성 갤럭시 언팩 2017 초대장</td>\n",
       "    </tr>\n",
       "    <tr>\n",
       "      <th>1513</th>\n",
       "      <td>창원시, 한-캐 인공지능 공동연구 2차년도 사업 본격 돌입</td>\n",
       "      <td>포장재까지 먹는다…우유 단백질로 포장 필름 개발</td>\n",
       "    </tr>\n",
       "    <tr>\n",
       "      <th>1566</th>\n",
       "      <td>부산소방재난본부 - KT 업무협약 체결, 인공지능 119신고접수 및 상황처리시스템 ...</td>\n",
       "      <td>회전 카메라 탑재한 갤럭시A80 SKT 단독출시…59만9천500원</td>\n",
       "    </tr>\n",
       "    <tr>\n",
       "      <th>1816</th>\n",
       "      <td>출연연 출장 증빙 부담 제로시대 연다… 모바일 증빙앱 제공</td>\n",
       "      <td>SK텔레콤 옥수수 소셜 VR</td>\n",
       "    </tr>\n",
       "    <tr>\n",
       "      <th>2852</th>\n",
       "      <td>동서대 LINC+사업단, 지역사회 창의융합 돋음볕 드론교실 큰 호응</td>\n",
       "      <td>세기의 대국 구글 수뇌부 서울 집결…알파고 승리 자축</td>\n",
       "    </tr>\n",
       "    <tr>\n",
       "      <th>3039</th>\n",
       "      <td>넥슨개발자콘퍼런스, 9일 온라인 개막</td>\n",
       "      <td>의심마저 허용되지 않는 어두운 미래…소설 2084</td>\n",
       "    </tr>\n",
       "    <tr>\n",
       "      <th>3568</th>\n",
       "      <td>전기연구원 SNS 통해 AI 과학키트 무료로 받아가세요</td>\n",
       "      <td>민주 새 원내대표단에 초선 의원 5명 추가 합류</td>\n",
       "    </tr>\n",
       "    <tr>\n",
       "      <th>3624</th>\n",
       "      <td>LG전자, AI 탑재 디지털 엑스레이 검출기 출시…방사선량도 절반 줄여</td>\n",
       "      <td>SKT 인공지능 스마트홈 로봇 브이요 첫 공개</td>\n",
       "    </tr>\n",
       "    <tr>\n",
       "      <th>4128</th>\n",
       "      <td>산업융합으로 디지털 전환·탄소중립 속도…3조 6000억 원 투입</td>\n",
       "      <td>게시판 미래부 빅데이터 RD 심포지엄</td>\n",
       "    </tr>\n",
       "    <tr>\n",
       "      <th>4166</th>\n",
       "      <td>배민, 서빙로봇 공급 확대…KT, LG전자 등에 이어 배달앱까지 서빙로봇 경쟁</td>\n",
       "      <td>카카오내비 이제는 말로 명령한다</td>\n",
       "    </tr>\n",
       "  </tbody>\n",
       "</table>\n",
       "</div>"
      ],
      "text/plain": [
       "                                                    hub   \n",
       "14                           LG전자 공기과학연구소, 업계 최초로 국가 공인  \\\n",
       "107                                  정부, 전기차와 수소차 규제 완화   \n",
       "120                     K콘텐츠 5500억 베팅…넷플릭스 한국 영화 라인업 공개   \n",
       "121                      목원대, 중부권 최초 AI 로봇 전문인력 양성기관 선정   \n",
       "148                      산재 특화 첨단연구 인프라 조성 바이오메디컬 산업 선도   \n",
       "165                          경기도, 제조업 근간 뿌리산업 경쟁력 강화 지원   \n",
       "633                            코로나 집콕으로 빈집털이 절반 가까이 줄었다   \n",
       "1048          올해 창원경제 V-턴 반등과 플러스 성장 원년 실현은 창원국가산단이 이끈다   \n",
       "1063                    도심 속 푸르고 깨끗한 환경 제공으로 녹색도시 진해 구현   \n",
       "1198                      삼성전자, 2021년 삼성 주니어 SW 아카데미 개강   \n",
       "1438                        정원 감축·폐과·특성화로… 지역 대학 생존 몸부림   \n",
       "1513                   창원시, 한-캐 인공지능 공동연구 2차년도 사업 본격 돌입   \n",
       "1566  부산소방재난본부 - KT 업무협약 체결, 인공지능 119신고접수 및 상황처리시스템 ...   \n",
       "1816                   출연연 출장 증빙 부담 제로시대 연다… 모바일 증빙앱 제공   \n",
       "2852              동서대 LINC+사업단, 지역사회 창의융합 돋음볕 드론교실 큰 호응   \n",
       "3039                               넥슨개발자콘퍼런스, 9일 온라인 개막   \n",
       "3568                     전기연구원 SNS 통해 AI 과학키트 무료로 받아가세요   \n",
       "3624            LG전자, AI 탑재 디지털 엑스레이 검출기 출시…방사선량도 절반 줄여   \n",
       "4128                산업융합으로 디지털 전환·탄소중립 속도…3조 6000억 원 투입   \n",
       "4166        배민, 서빙로봇 공급 확대…KT, LG전자 등에 이어 배달앱까지 서빙로봇 경쟁   \n",
       "\n",
       "                                      klue  \n",
       "14          네이버 자율차 첫 공개…완전 자동주행 목표로 달려요종합  \n",
       "107               그래픽 네이버 모바일 첫 화면 개편 내용종합  \n",
       "120            5G 만난 스마트 카…MWC서도 흥행몰이 이어질까  \n",
       "121             스마트폰·태블릿PC 인증표시도 이제 디스플레이화  \n",
       "148         음성으로 상품결제까지…KT롯데닷컴 AI 쇼핑서비스 맞손  \n",
       "165        T맵 2시간 접속장애…SK텔레콤 3만3천명에 주유권 보상  \n",
       "633           다공성 금속구조체 전극으로 리튬전지 용량 2배 향상  \n",
       "1048             유영민 과기 통신3사 CEO들에 5G 협력요청  \n",
       "1063        SK텔레콤 유럽에 1천400㎞ 양자암호 통신망 구축종합  \n",
       "1198         아이폰X 4분기 4천만∼5천만대 판매 전망…1위 유력  \n",
       "1438                    삼성 갤럭시 언팩 2017 초대장  \n",
       "1513            포장재까지 먹는다…우유 단백질로 포장 필름 개발  \n",
       "1566  회전 카메라 탑재한 갤럭시A80 SKT 단독출시…59만9천500원  \n",
       "1816                       SK텔레콤 옥수수 소셜 VR  \n",
       "2852         세기의 대국 구글 수뇌부 서울 집결…알파고 승리 자축  \n",
       "3039           의심마저 허용되지 않는 어두운 미래…소설 2084  \n",
       "3568            민주 새 원내대표단에 초선 의원 5명 추가 합류  \n",
       "3624             SKT 인공지능 스마트홈 로봇 브이요 첫 공개  \n",
       "4128                  게시판 미래부 빅데이터 RD 심포지엄  \n",
       "4166                     카카오내비 이제는 말로 명령한다  "
      ]
     },
     "execution_count": 49,
     "metadata": {},
     "output_type": "execute_result"
    }
   ],
   "source": [
    "science = pd.DataFrame(news_science.input_text).merge(pd.DataFrame(klue_science.text), left_index=True, right_index=True)\n",
    "science.columns = ['hub', 'klue']\n",
    "science.head(20)"
   ]
  },
  {
   "cell_type": "code",
   "execution_count": 50,
   "metadata": {},
   "outputs": [
    {
     "data": {
      "text/html": [
       "<div>\n",
       "<style scoped>\n",
       "    .dataframe tbody tr th:only-of-type {\n",
       "        vertical-align: middle;\n",
       "    }\n",
       "\n",
       "    .dataframe tbody tr th {\n",
       "        vertical-align: top;\n",
       "    }\n",
       "\n",
       "    .dataframe thead th {\n",
       "        text-align: right;\n",
       "    }\n",
       "</style>\n",
       "<table border=\"1\" class=\"dataframe\">\n",
       "  <thead>\n",
       "    <tr style=\"text-align: right;\">\n",
       "      <th></th>\n",
       "      <th>hub</th>\n",
       "      <th>klue</th>\n",
       "    </tr>\n",
       "  </thead>\n",
       "  <tbody>\n",
       "    <tr>\n",
       "      <th>19</th>\n",
       "      <td>김정태 회장, 하나금융 1년 더 이끈다</td>\n",
       "      <td>기아차 세계 3대 시장서 판매기록 도전한다</td>\n",
       "    </tr>\n",
       "    <tr>\n",
       "      <th>40</th>\n",
       "      <td>금감원 라임펀드 판 우리·기업銀, 65~78% 배상하라</td>\n",
       "      <td>신한금투 한미 금리 인하 등으로 8월 코스피 반등할 듯</td>\n",
       "    </tr>\n",
       "    <tr>\n",
       "      <th>85</th>\n",
       "      <td>삼성, 데이터센터 전용… 고성능 SSD 제품 양산</td>\n",
       "      <td>체니·게이츠·라이스 등 美공화 거물들이 틸러슨 국무장관 천거</td>\n",
       "    </tr>\n",
       "    <tr>\n",
       "      <th>92</th>\n",
       "      <td>불 붙은 배송 전쟁…이륜차로 라스트마일 시간 줄인다</td>\n",
       "      <td>코스피 외인·기관 매도에 하락 출발…장중 2170대 후퇴종합2보</td>\n",
       "    </tr>\n",
       "    <tr>\n",
       "      <th>213</th>\n",
       "      <td>LG화학, 글로벌 전 사업장에 24시간 비대면 심리상담 도입</td>\n",
       "      <td>코스피 보합세로 출발</td>\n",
       "    </tr>\n",
       "    <tr>\n",
       "      <th>262</th>\n",
       "      <td>SK이노, 73개 협력사 직원에 총 35억 전달</td>\n",
       "      <td>개포주공8 디에이치자이 개포 평균 분양가 4천243만원</td>\n",
       "    </tr>\n",
       "    <tr>\n",
       "      <th>366</th>\n",
       "      <td>분양권 팝니다, 비대면으로… 금요일 밤 걸려온 전화</td>\n",
       "      <td>게시판 KB증권 퇴직연금 저축은행 정기예금 판매</td>\n",
       "    </tr>\n",
       "    <tr>\n",
       "      <th>557</th>\n",
       "      <td>아프리카TV, 연간 영업이익 504억원 신기록</td>\n",
       "      <td>V50 씽큐 예상외 선방에도…LG폰 2분기 3천억대 적자</td>\n",
       "    </tr>\n",
       "    <tr>\n",
       "      <th>600</th>\n",
       "      <td>금융그룹, 작년 호실적에도 분위기 썰렁</td>\n",
       "      <td>특징주 백기사 델타항공 지분 매입에 한진칼 약세</td>\n",
       "    </tr>\n",
       "    <tr>\n",
       "      <th>652</th>\n",
       "      <td>위메프 신임 대표에 히어로즈 대표 출신 하송 부사장</td>\n",
       "      <td>페이코 금융 탭 신설…간편금융 플랫폼 표방</td>\n",
       "    </tr>\n",
       "    <tr>\n",
       "      <th>714</th>\n",
       "      <td>현대차 쏘나타·아반떼 미국 생산물량 7만대 첫 국내 유턴</td>\n",
       "      <td>NH투자 증권업 수익성 개선…최선호주는 한국금융지주</td>\n",
       "    </tr>\n",
       "    <tr>\n",
       "      <th>716</th>\n",
       "      <td>고용 유발 안해 소상공인 매출 효과… 지역화폐 논란 재점화</td>\n",
       "      <td>국제유가 사우디 수출감소 속 강세…WTI 0.4%↑</td>\n",
       "    </tr>\n",
       "    <tr>\n",
       "      <th>749</th>\n",
       "      <td>삼성전자 3월 17일 주총 개최…7~16일까지 전자투표</td>\n",
       "      <td>코스피 외인 사자에 2090선 회복</td>\n",
       "    </tr>\n",
       "    <tr>\n",
       "      <th>775</th>\n",
       "      <td>지난해 외국인 부동산 거래 절반 이상이 차이나 머니</td>\n",
       "      <td>SKT 최대 36GB 무료 클라우드 출시…타사 이용자에도 개방</td>\n",
       "    </tr>\n",
       "    <tr>\n",
       "      <th>778</th>\n",
       "      <td>하나금융 차기 회장 후보 김정태 등 4명 압축</td>\n",
       "      <td>특징주 민앤지 118억원 공급계약에 강세</td>\n",
       "    </tr>\n",
       "    <tr>\n",
       "      <th>819</th>\n",
       "      <td>해외 비중 77% 펄어비스, 영업익↑ 매출↓</td>\n",
       "      <td>정의 소상공인 생존권 위협하는 것은 최저임금 아닌 임대료</td>\n",
       "    </tr>\n",
       "    <tr>\n",
       "      <th>842</th>\n",
       "      <td>삼성·SK 대박 부러웠나… LG·CJ도 바이오 산업 박차</td>\n",
       "      <td>구글플레이 매출 50%가 아태서 발생…한·일·대만 큰 잠재력</td>\n",
       "    </tr>\n",
       "    <tr>\n",
       "      <th>859</th>\n",
       "      <td>스타필드 닫는다고 전통시장 안 가요</td>\n",
       "      <td>오늘의 투자전략 중장기적 지수 방향성은 긍정적</td>\n",
       "    </tr>\n",
       "    <tr>\n",
       "      <th>863</th>\n",
       "      <td>한국소비자평가, 2021 KCA 우수 전문인 어워즈 교수 부문 발표</td>\n",
       "      <td>하나금투 내년 코스피 1900∼2400선 등락</td>\n",
       "    </tr>\n",
       "    <tr>\n",
       "      <th>919</th>\n",
       "      <td>한화 김동관 사장 인공위성 스타트업 무보수로 돕는다</td>\n",
       "      <td>삼성물산 2분기 영업이익 2천207억원…41.6% 감소종합</td>\n",
       "    </tr>\n",
       "  </tbody>\n",
       "</table>\n",
       "</div>"
      ],
      "text/plain": [
       "                                       hub   \n",
       "19                   김정태 회장, 하나금융 1년 더 이끈다  \\\n",
       "40          금감원 라임펀드 판 우리·기업銀, 65~78% 배상하라   \n",
       "85             삼성, 데이터센터 전용… 고성능 SSD 제품 양산   \n",
       "92            불 붙은 배송 전쟁…이륜차로 라스트마일 시간 줄인다   \n",
       "213      LG화학, 글로벌 전 사업장에 24시간 비대면 심리상담 도입   \n",
       "262             SK이노, 73개 협력사 직원에 총 35억 전달   \n",
       "366           분양권 팝니다, 비대면으로… 금요일 밤 걸려온 전화   \n",
       "557              아프리카TV, 연간 영업이익 504억원 신기록   \n",
       "600                  금융그룹, 작년 호실적에도 분위기 썰렁   \n",
       "652           위메프 신임 대표에 히어로즈 대표 출신 하송 부사장   \n",
       "714        현대차 쏘나타·아반떼 미국 생산물량 7만대 첫 국내 유턴   \n",
       "716       고용 유발 안해 소상공인 매출 효과… 지역화폐 논란 재점화   \n",
       "749         삼성전자 3월 17일 주총 개최…7~16일까지 전자투표   \n",
       "775           지난해 외국인 부동산 거래 절반 이상이 차이나 머니   \n",
       "778              하나금융 차기 회장 후보 김정태 등 4명 압축   \n",
       "819               해외 비중 77% 펄어비스, 영업익↑ 매출↓   \n",
       "842        삼성·SK 대박 부러웠나… LG·CJ도 바이오 산업 박차   \n",
       "859                    스타필드 닫는다고 전통시장 안 가요   \n",
       "863  한국소비자평가, 2021 KCA 우수 전문인 어워즈 교수 부문 발표   \n",
       "919           한화 김동관 사장 인공위성 스타트업 무보수로 돕는다   \n",
       "\n",
       "                                    klue  \n",
       "19               기아차 세계 3대 시장서 판매기록 도전한다  \n",
       "40        신한금투 한미 금리 인하 등으로 8월 코스피 반등할 듯  \n",
       "85     체니·게이츠·라이스 등 美공화 거물들이 틸러슨 국무장관 천거  \n",
       "92   코스피 외인·기관 매도에 하락 출발…장중 2170대 후퇴종합2보  \n",
       "213                          코스피 보합세로 출발  \n",
       "262       개포주공8 디에이치자이 개포 평균 분양가 4천243만원  \n",
       "366           게시판 KB증권 퇴직연금 저축은행 정기예금 판매  \n",
       "557      V50 씽큐 예상외 선방에도…LG폰 2분기 3천억대 적자  \n",
       "600           특징주 백기사 델타항공 지분 매입에 한진칼 약세  \n",
       "652              페이코 금융 탭 신설…간편금융 플랫폼 표방  \n",
       "714         NH투자 증권업 수익성 개선…최선호주는 한국금융지주  \n",
       "716         국제유가 사우디 수출감소 속 강세…WTI 0.4%↑  \n",
       "749                  코스피 외인 사자에 2090선 회복  \n",
       "775   SKT 최대 36GB 무료 클라우드 출시…타사 이용자에도 개방  \n",
       "778               특징주 민앤지 118억원 공급계약에 강세  \n",
       "819      정의 소상공인 생존권 위협하는 것은 최저임금 아닌 임대료  \n",
       "842    구글플레이 매출 50%가 아태서 발생…한·일·대만 큰 잠재력  \n",
       "859            오늘의 투자전략 중장기적 지수 방향성은 긍정적  \n",
       "863            하나금투 내년 코스피 1900∼2400선 등락  \n",
       "919     삼성물산 2분기 영업이익 2천207억원…41.6% 감소종합  "
      ]
     },
     "execution_count": 50,
     "metadata": {},
     "output_type": "execute_result"
    }
   ],
   "source": [
    "economic = pd.DataFrame(news_economic.input_text).merge(pd.DataFrame(klue_economic.text), left_index=True, right_index=True)\n",
    "economic.columns = ['hub', 'klue']\n",
    "economic.head(20)"
   ]
  },
  {
   "cell_type": "code",
   "execution_count": 51,
   "metadata": {},
   "outputs": [
    {
     "data": {
      "text/html": [
       "<div>\n",
       "<style scoped>\n",
       "    .dataframe tbody tr th:only-of-type {\n",
       "        vertical-align: middle;\n",
       "    }\n",
       "\n",
       "    .dataframe tbody tr th {\n",
       "        vertical-align: top;\n",
       "    }\n",
       "\n",
       "    .dataframe thead th {\n",
       "        text-align: right;\n",
       "    }\n",
       "</style>\n",
       "<table border=\"1\" class=\"dataframe\">\n",
       "  <thead>\n",
       "    <tr style=\"text-align: right;\">\n",
       "      <th></th>\n",
       "      <th>hub</th>\n",
       "      <th>klue</th>\n",
       "    </tr>\n",
       "  </thead>\n",
       "  <tbody>\n",
       "    <tr>\n",
       "      <th>27</th>\n",
       "      <td>파주메디컬클러스터 조성 사업 본격화…2024년 완료 목표</td>\n",
       "      <td>코레일 산불 피해지역 상생발전 위한 여행사 간담회 개최</td>\n",
       "    </tr>\n",
       "    <tr>\n",
       "      <th>31</th>\n",
       "      <td>26일 첫 백신 접종… 이천 물류센터서 전국 배송 시작</td>\n",
       "      <td>총선 D7 진해 후보들 소외 공감·부산편입 이견</td>\n",
       "    </tr>\n",
       "    <tr>\n",
       "      <th>64</th>\n",
       "      <td>또 하나의 수도권 동남권 메가시티 위한 기반 구축 본격화</td>\n",
       "      <td>에쓰오일 서울 사회복지협의회에 1억3천700만원 기부</td>\n",
       "    </tr>\n",
       "    <tr>\n",
       "      <th>75</th>\n",
       "      <td>웹툰협회 등 콘텐츠업계 웹하드 6곳 추가 고발</td>\n",
       "      <td>추락한 日 F35A 전투기 이전에도 2차례 긴급착륙 전력</td>\n",
       "    </tr>\n",
       "    <tr>\n",
       "      <th>81</th>\n",
       "      <td>대통령 첫 접종 논란 의식? 1호 접종자 없다 이례적 결정</td>\n",
       "      <td>러 화재 참사 여객기와 같은 기종 또 회항…기체 장치 고장</td>\n",
       "    </tr>\n",
       "    <tr>\n",
       "      <th>93</th>\n",
       "      <td>산삼의 고장 함양, 산삼항노화엑스포 성공 개최 총력</td>\n",
       "      <td>방정오 측 故장자연과 통화 보도 사실무근…법적대응</td>\n",
       "    </tr>\n",
       "    <tr>\n",
       "      <th>136</th>\n",
       "      <td>포항시, 주소갖기 릴레이 챌린지 펼친다</td>\n",
       "      <td>포켓몬 실행 부산 모 학교 가보니 불안정한 게임사냥</td>\n",
       "    </tr>\n",
       "    <tr>\n",
       "      <th>141</th>\n",
       "      <td>빛고을의 밤, 미디어아트로 빛난다</td>\n",
       "      <td>자유연대 사법부 개혁 촉구 공수처 반대</td>\n",
       "    </tr>\n",
       "    <tr>\n",
       "      <th>145</th>\n",
       "      <td>尹 출마제한법에… 법무부 취지 공감, 의견 수렴해야</td>\n",
       "      <td>대법 지상파 무단 재송신 배상액 산정 땐 무료가입자 빼야</td>\n",
       "    </tr>\n",
       "    <tr>\n",
       "      <th>227</th>\n",
       "      <td>당신과 일하기 싫다 논란… 카카오 직원, 고용부 청원</td>\n",
       "      <td>네이버 제2데이터센터 후보지 10곳 선정</td>\n",
       "    </tr>\n",
       "    <tr>\n",
       "      <th>236</th>\n",
       "      <td>지원금 업무 고강도 압박 고용부 한달 새 2명 숨져</td>\n",
       "      <td>표준감사시간 도입시 감사시간 평균 65% 증가</td>\n",
       "    </tr>\n",
       "    <tr>\n",
       "      <th>246</th>\n",
       "      <td>직원에 임상시험한 안국약품 전 연구소장, 벌금형</td>\n",
       "      <td>미디어·정보 리터러시 논하는 첫 국제 심포지엄</td>\n",
       "    </tr>\n",
       "    <tr>\n",
       "      <th>271</th>\n",
       "      <td>안젤리나 졸리-반기문, 코로나19 소외계층 문제 머리 맞댄다</td>\n",
       "      <td>LH 국민임대주택 1만4천여가구 예비입주자 모집</td>\n",
       "    </tr>\n",
       "    <tr>\n",
       "      <th>285</th>\n",
       "      <td>신축 이전 앞둔 전남대병원 유치전 가열</td>\n",
       "      <td>한국관광공사 제21회 관광기념품 공모전 개최</td>\n",
       "    </tr>\n",
       "    <tr>\n",
       "      <th>289</th>\n",
       "      <td>수정과와 식혜, 테이크아웃 컵에 담아 제공합니다</td>\n",
       "      <td>한국전 참전 미군 유해 실종 65년 만에 고향 뉴욕으로 송환</td>\n",
       "    </tr>\n",
       "    <tr>\n",
       "      <th>291</th>\n",
       "      <td>인구절벽 넘어서야 생존… 부산·경북 대책 마련 나섰다</td>\n",
       "      <td>영상 뉴스·실검 뺀 네이버 첫화면…뉴스 편집 논란 해소될까</td>\n",
       "    </tr>\n",
       "    <tr>\n",
       "      <th>316</th>\n",
       "      <td>최대 10㎝ 폭설 예보…서울시 약 9000명 제설대응 투입</td>\n",
       "      <td>비선 진료 의혹 김영재 원장 집·사무실 전격 압수수색2보</td>\n",
       "    </tr>\n",
       "    <tr>\n",
       "      <th>363</th>\n",
       "      <td>경남 창원시, 드론산업 중심지로 부상</td>\n",
       "      <td>롯데 檢수사로 자금조달 계획 차질</td>\n",
       "    </tr>\n",
       "    <tr>\n",
       "      <th>373</th>\n",
       "      <td>경기도콘텐츠진흥원 영화분야 주요지원사업 발표</td>\n",
       "      <td>명분 비해 실속 아쉬운 저널리즘 토크쇼J·페이크</td>\n",
       "    </tr>\n",
       "    <tr>\n",
       "      <th>379</th>\n",
       "      <td>오지도, 가지도 않는다…대구 관광 위기</td>\n",
       "      <td>작년 아동·청소년 하루평균 44분 게임…33.3%↑</td>\n",
       "    </tr>\n",
       "  </tbody>\n",
       "</table>\n",
       "</div>"
      ],
      "text/plain": [
       "                                   hub                               klue\n",
       "27     파주메디컬클러스터 조성 사업 본격화…2024년 완료 목표     코레일 산불 피해지역 상생발전 위한 여행사 간담회 개최\n",
       "31      26일 첫 백신 접종… 이천 물류센터서 전국 배송 시작         총선 D7 진해 후보들 소외 공감·부산편입 이견\n",
       "64     또 하나의 수도권 동남권 메가시티 위한 기반 구축 본격화      에쓰오일 서울 사회복지협의회에 1억3천700만원 기부\n",
       "75           웹툰협회 등 콘텐츠업계 웹하드 6곳 추가 고발    추락한 日 F35A 전투기 이전에도 2차례 긴급착륙 전력\n",
       "81    대통령 첫 접종 논란 의식? 1호 접종자 없다 이례적 결정   러 화재 참사 여객기와 같은 기종 또 회항…기체 장치 고장\n",
       "93        산삼의 고장 함양, 산삼항노화엑스포 성공 개최 총력        방정오 측 故장자연과 통화 보도 사실무근…법적대응\n",
       "136              포항시, 주소갖기 릴레이 챌린지 펼친다       포켓몬 실행 부산 모 학교 가보니 불안정한 게임사냥\n",
       "141                 빛고을의 밤, 미디어아트로 빛난다              자유연대 사법부 개혁 촉구 공수처 반대\n",
       "145       尹 출마제한법에… 법무부 취지 공감, 의견 수렴해야    대법 지상파 무단 재송신 배상액 산정 땐 무료가입자 빼야\n",
       "227      당신과 일하기 싫다 논란… 카카오 직원, 고용부 청원             네이버 제2데이터센터 후보지 10곳 선정\n",
       "236       지원금 업무 고강도 압박 고용부 한달 새 2명 숨져          표준감사시간 도입시 감사시간 평균 65% 증가\n",
       "246         직원에 임상시험한 안국약품 전 연구소장, 벌금형          미디어·정보 리터러시 논하는 첫 국제 심포지엄\n",
       "271  안젤리나 졸리-반기문, 코로나19 소외계층 문제 머리 맞댄다         LH 국민임대주택 1만4천여가구 예비입주자 모집\n",
       "285              신축 이전 앞둔 전남대병원 유치전 가열           한국관광공사 제21회 관광기념품 공모전 개최\n",
       "289         수정과와 식혜, 테이크아웃 컵에 담아 제공합니다  한국전 참전 미군 유해 실종 65년 만에 고향 뉴욕으로 송환\n",
       "291      인구절벽 넘어서야 생존… 부산·경북 대책 마련 나섰다   영상 뉴스·실검 뺀 네이버 첫화면…뉴스 편집 논란 해소될까\n",
       "316   최대 10㎝ 폭설 예보…서울시 약 9000명 제설대응 투입    비선 진료 의혹 김영재 원장 집·사무실 전격 압수수색2보\n",
       "363               경남 창원시, 드론산업 중심지로 부상                 롯데 檢수사로 자금조달 계획 차질\n",
       "373           경기도콘텐츠진흥원 영화분야 주요지원사업 발표         명분 비해 실속 아쉬운 저널리즘 토크쇼J·페이크\n",
       "379              오지도, 가지도 않는다…대구 관광 위기       작년 아동·청소년 하루평균 44분 게임…33.3%↑"
      ]
     },
     "execution_count": 51,
     "metadata": {},
     "output_type": "execute_result"
    }
   ],
   "source": [
    "society = pd.DataFrame(news_society.input_text).merge(pd.DataFrame(klue_society.text), left_index=True, right_index=True)\n",
    "society.columns = ['hub', 'klue']\n",
    "society.head(20)"
   ]
  },
  {
   "cell_type": "code",
   "execution_count": 52,
   "metadata": {},
   "outputs": [
    {
     "data": {
      "text/html": [
       "<div>\n",
       "<style scoped>\n",
       "    .dataframe tbody tr th:only-of-type {\n",
       "        vertical-align: middle;\n",
       "    }\n",
       "\n",
       "    .dataframe tbody tr th {\n",
       "        vertical-align: top;\n",
       "    }\n",
       "\n",
       "    .dataframe thead th {\n",
       "        text-align: right;\n",
       "    }\n",
       "</style>\n",
       "<table border=\"1\" class=\"dataframe\">\n",
       "  <thead>\n",
       "    <tr style=\"text-align: right;\">\n",
       "      <th></th>\n",
       "      <th>hub</th>\n",
       "      <th>klue</th>\n",
       "    </tr>\n",
       "  </thead>\n",
       "  <tbody>\n",
       "    <tr>\n",
       "      <th>194</th>\n",
       "      <td>오늘이 마지막인듯…배동성♥전진주 재혼 심경 고백</td>\n",
       "      <td>베를린필 최연소 악장 출신 블라허 내달 독주 무대</td>\n",
       "    </tr>\n",
       "    <tr>\n",
       "      <th>343</th>\n",
       "      <td>유재석, KBS 新예능 복귀… 스타의 서울살이 초심 돌아본다</td>\n",
       "      <td>대구소식 컬러풀 페스티벌 축제감독 공모</td>\n",
       "    </tr>\n",
       "    <tr>\n",
       "      <th>381</th>\n",
       "      <td>아직 낫서른 정인선X강민혁, 실제 동갑내기 케미</td>\n",
       "      <td>쿨투라 2019 오늘의 영화·시에 버닝과 미래는 공처럼</td>\n",
       "    </tr>\n",
       "    <tr>\n",
       "      <th>468</th>\n",
       "      <td>씨엘, 국내 여자 솔로 가수 첫 美 TV 광고 모델로 등장</td>\n",
       "      <td>신간 색을 불러낸 사람들·서브컬처로 읽는 일본현대미술</td>\n",
       "    </tr>\n",
       "    <tr>\n",
       "      <th>470</th>\n",
       "      <td>노는 언니 박세리, 김온아 응원 위해 붕어빵 장사</td>\n",
       "      <td>예술과 정치 사이에 선 쇼스타코비치의 불안</td>\n",
       "    </tr>\n",
       "    <tr>\n",
       "      <th>584</th>\n",
       "      <td>마블 코믹스 새 히어로 한국인…이름은 무려 태극기</td>\n",
       "      <td>청소년 신간 내 몸에 흐르는 뜨거운 피</td>\n",
       "    </tr>\n",
       "    <tr>\n",
       "      <th>604</th>\n",
       "      <td>슈돌 김영권-구자철의 현실통화 축구보다 힘든 육아</td>\n",
       "      <td>태풍 차바 경남 15시 영향권 벗어나…최고 277.5㎜ 물폭탄종합</td>\n",
       "    </tr>\n",
       "    <tr>\n",
       "      <th>666</th>\n",
       "      <td>개훌륭 규제자가 알려주는 새로 시행된 동물보호법</td>\n",
       "      <td>베스트셀러 가벼운 에세이류 강세 계속</td>\n",
       "    </tr>\n",
       "    <tr>\n",
       "      <th>780</th>\n",
       "      <td>램지어 읽어보라 위안부 증언소설 한 명 美서 2쇄 찍는다</td>\n",
       "      <td>쥬니버 BBC 어린이 애니메이션 7종 공개</td>\n",
       "    </tr>\n",
       "    <tr>\n",
       "      <th>810</th>\n",
       "      <td>예배곡 더 블레싱 한국어로 부른다</td>\n",
       "      <td>청정 동해가 부른다…경포해수욕장 개장</td>\n",
       "    </tr>\n",
       "    <tr>\n",
       "      <th>858</th>\n",
       "      <td>드러누운 가장, 저 팔자 부러워 …장욱진 개인전</td>\n",
       "      <td>아름다움엔 관심없어요 불편한 미술로 더나은 세상 만들고파</td>\n",
       "    </tr>\n",
       "    <tr>\n",
       "      <th>1206</th>\n",
       "      <td>천불정사 고담 스님 부산대 발전기금 기탁</td>\n",
       "      <td>어보 환수는 이렇게 했어요</td>\n",
       "    </tr>\n",
       "    <tr>\n",
       "      <th>1300</th>\n",
       "      <td>이나은 지우기 나선 방송·광고계</td>\n",
       "      <td>청년이 된 함평나비축제 27∼5월 7일 열린다</td>\n",
       "    </tr>\n",
       "    <tr>\n",
       "      <th>1399</th>\n",
       "      <td>이 시국에 자꾸 목욕탕 가자는 시어머니…미치겠다</td>\n",
       "      <td>현대미술로 보는 거짓말·거짓말·거짓말</td>\n",
       "    </tr>\n",
       "    <tr>\n",
       "      <th>1526</th>\n",
       "      <td>참전용사 사진작가 라미, 살아있는 역사교육 나선다</td>\n",
       "      <td>충북 매서운 추위…제천 영하 13도</td>\n",
       "    </tr>\n",
       "    <tr>\n",
       "      <th>1698</th>\n",
       "      <td>수영구, 한국관광공사와 강소형 잠재관광지 육성사업 광안리 SUP Zone 업무협약 체결</td>\n",
       "      <td>갤러리 그림손 10주년 기획 채성필 개인전</td>\n",
       "    </tr>\n",
       "    <tr>\n",
       "      <th>1873</th>\n",
       "      <td>달콤한 초콜릿의 씁쓸한 비밀</td>\n",
       "      <td>공연예술가 꿈꾸는 청소년에게…공연계 선배가 들려주는 이야기</td>\n",
       "    </tr>\n",
       "    <tr>\n",
       "      <th>1874</th>\n",
       "      <td>미나리 윤여정, 英 아카데미 여우조연상 후보</td>\n",
       "      <td>기상과 역사의 만남…이야기가 있는 날씨 풍경 사진전</td>\n",
       "    </tr>\n",
       "    <tr>\n",
       "      <th>2036</th>\n",
       "      <td>가야고분군, 유네스코 세계유산 등재 1차 관문 통과했다</td>\n",
       "      <td>더울 땐 서점으로…교보문고 여름나기 이벤트</td>\n",
       "    </tr>\n",
       "    <tr>\n",
       "      <th>2237</th>\n",
       "      <td>키오스크 앞에서 20분 헤매다 울어버린 엄마 나 끝났나봐</td>\n",
       "      <td>대관령에 첫눈…겨울 성큼</td>\n",
       "    </tr>\n",
       "  </tbody>\n",
       "</table>\n",
       "</div>"
      ],
      "text/plain": [
       "                                                   hub   \n",
       "194                         오늘이 마지막인듯…배동성♥전진주 재혼 심경 고백  \\\n",
       "343                  유재석, KBS 新예능 복귀… 스타의 서울살이 초심 돌아본다   \n",
       "381                         아직 낫서른 정인선X강민혁, 실제 동갑내기 케미   \n",
       "468                   씨엘, 국내 여자 솔로 가수 첫 美 TV 광고 모델로 등장   \n",
       "470                        노는 언니 박세리, 김온아 응원 위해 붕어빵 장사   \n",
       "584                        마블 코믹스 새 히어로 한국인…이름은 무려 태극기   \n",
       "604                        슈돌 김영권-구자철의 현실통화 축구보다 힘든 육아   \n",
       "666                         개훌륭 규제자가 알려주는 새로 시행된 동물보호법   \n",
       "780                    램지어 읽어보라 위안부 증언소설 한 명 美서 2쇄 찍는다   \n",
       "810                                 예배곡 더 블레싱 한국어로 부른다   \n",
       "858                         드러누운 가장, 저 팔자 부러워 …장욱진 개인전   \n",
       "1206                            천불정사 고담 스님 부산대 발전기금 기탁   \n",
       "1300                                 이나은 지우기 나선 방송·광고계   \n",
       "1399                        이 시국에 자꾸 목욕탕 가자는 시어머니…미치겠다   \n",
       "1526                       참전용사 사진작가 라미, 살아있는 역사교육 나선다   \n",
       "1698  수영구, 한국관광공사와 강소형 잠재관광지 육성사업 광안리 SUP Zone 업무협약 체결   \n",
       "1873                                   달콤한 초콜릿의 씁쓸한 비밀   \n",
       "1874                          미나리 윤여정, 英 아카데미 여우조연상 후보   \n",
       "2036                    가야고분군, 유네스코 세계유산 등재 1차 관문 통과했다   \n",
       "2237                   키오스크 앞에서 20분 헤매다 울어버린 엄마 나 끝났나봐   \n",
       "\n",
       "                                      klue  \n",
       "194            베를린필 최연소 악장 출신 블라허 내달 독주 무대  \n",
       "343                  대구소식 컬러풀 페스티벌 축제감독 공모  \n",
       "381         쿨투라 2019 오늘의 영화·시에 버닝과 미래는 공처럼  \n",
       "468          신간 색을 불러낸 사람들·서브컬처로 읽는 일본현대미술  \n",
       "470                예술과 정치 사이에 선 쇼스타코비치의 불안  \n",
       "584                  청소년 신간 내 몸에 흐르는 뜨거운 피  \n",
       "604   태풍 차바 경남 15시 영향권 벗어나…최고 277.5㎜ 물폭탄종합  \n",
       "666                   베스트셀러 가벼운 에세이류 강세 계속  \n",
       "780                쥬니버 BBC 어린이 애니메이션 7종 공개  \n",
       "810                   청정 동해가 부른다…경포해수욕장 개장  \n",
       "858        아름다움엔 관심없어요 불편한 미술로 더나은 세상 만들고파  \n",
       "1206                        어보 환수는 이렇게 했어요  \n",
       "1300             청년이 된 함평나비축제 27∼5월 7일 열린다  \n",
       "1399                  현대미술로 보는 거짓말·거짓말·거짓말  \n",
       "1526                   충북 매서운 추위…제천 영하 13도  \n",
       "1698               갤러리 그림손 10주년 기획 채성필 개인전  \n",
       "1873      공연예술가 꿈꾸는 청소년에게…공연계 선배가 들려주는 이야기  \n",
       "1874          기상과 역사의 만남…이야기가 있는 날씨 풍경 사진전  \n",
       "2036               더울 땐 서점으로…교보문고 여름나기 이벤트  \n",
       "2237                         대관령에 첫눈…겨울 성큼  "
      ]
     },
     "execution_count": 52,
     "metadata": {},
     "output_type": "execute_result"
    }
   ],
   "source": [
    "culture = pd.DataFrame(news_culture.input_text).merge(pd.DataFrame(klue_culture.text), left_index=True, right_index=True)\n",
    "culture.columns = ['hub', 'klue']\n",
    "culture.head(20)"
   ]
  },
  {
   "cell_type": "code",
   "execution_count": 53,
   "metadata": {},
   "outputs": [
    {
     "data": {
      "text/html": [
       "<div>\n",
       "<style scoped>\n",
       "    .dataframe tbody tr th:only-of-type {\n",
       "        vertical-align: middle;\n",
       "    }\n",
       "\n",
       "    .dataframe tbody tr th {\n",
       "        vertical-align: top;\n",
       "    }\n",
       "\n",
       "    .dataframe thead th {\n",
       "        text-align: right;\n",
       "    }\n",
       "</style>\n",
       "<table border=\"1\" class=\"dataframe\">\n",
       "  <thead>\n",
       "    <tr style=\"text-align: right;\">\n",
       "      <th></th>\n",
       "      <th>hub</th>\n",
       "      <th>klue</th>\n",
       "    </tr>\n",
       "  </thead>\n",
       "  <tbody>\n",
       "    <tr>\n",
       "      <th>0</th>\n",
       "      <td>시진핑엔 선물, 바이든엔 모욕… 유럽의회서 막힌 中·EU투자협정</td>\n",
       "      <td>홍콩 행정장관 유화 제스처…시위대 요구 일부 수용 시사종합</td>\n",
       "    </tr>\n",
       "    <tr>\n",
       "      <th>70</th>\n",
       "      <td>추리 작가 힐러리, 공동집필 소설 10월 발간</td>\n",
       "      <td>이란 혁명수비대 테러조직 지정에 중동 양분</td>\n",
       "    </tr>\n",
       "    <tr>\n",
       "      <th>73</th>\n",
       "      <td>뉴욕증시, 초반 약세 극복 사상 최고 마감…다우 1.35%↑</td>\n",
       "      <td>이집트 고대 지하묘지 복구 프로젝트 완료</td>\n",
       "    </tr>\n",
       "    <tr>\n",
       "      <th>112</th>\n",
       "      <td>피가 뚝뚝, 기린 심장 들고 인증샷 찍은 여성…비난 봇물</td>\n",
       "      <td>中 대만정책 선거결과에 따라 바뀌지 않을 것</td>\n",
       "    </tr>\n",
       "    <tr>\n",
       "      <th>116</th>\n",
       "      <td>다리 6개, 꼬리 2개 쌍둥이 태아와 합체한 강아지</td>\n",
       "      <td>브라질 소두증 의심사례 4천건 넘어…신생아 12명 사망종합</td>\n",
       "    </tr>\n",
       "    <tr>\n",
       "      <th>132</th>\n",
       "      <td>1회 접종으로 끝 얀센 백신 美승인 임박… 남아공 변이에도 효과</td>\n",
       "      <td>러서방 세력접점 우크라이나 대선투표…역대 최다 39명 입후보</td>\n",
       "    </tr>\n",
       "    <tr>\n",
       "      <th>168</th>\n",
       "      <td>WHO 속였다 코로나 폭발 이탈리아 거짓보고서 논란</td>\n",
       "      <td>튀니지 해역 떠돌던 방글라 이주자 30여명 본국 강제 송환</td>\n",
       "    </tr>\n",
       "    <tr>\n",
       "      <th>267</th>\n",
       "      <td>스푸트니크V 효능 90%↑…러시아산 백신 유럽 뚫나</td>\n",
       "      <td>사우디 석유장관 유가 변동성 60∼86달러로 좁혀야</td>\n",
       "    </tr>\n",
       "    <tr>\n",
       "      <th>375</th>\n",
       "      <td>로이터 미얀마 군경, 만달레이서 시위대 향해 발포</td>\n",
       "      <td>2.8독립선언 일본·대만·중국 역사에도 큰 의미</td>\n",
       "    </tr>\n",
       "    <tr>\n",
       "      <th>460</th>\n",
       "      <td>보이콧은 없다…中왕이 베이징올림픽 카운트다운 시작</td>\n",
       "      <td>총알녹여 만든 펜으로…콜롬비아정부반군 52년만의 평화서명</td>\n",
       "    </tr>\n",
       "    <tr>\n",
       "      <th>513</th>\n",
       "      <td>中, 美쿼드 압박에 약한 고리 인도 공략</td>\n",
       "      <td>민주콩고 수도 킨샤사서 폭우로 19명 사망</td>\n",
       "    </tr>\n",
       "    <tr>\n",
       "      <th>526</th>\n",
       "      <td>이마에 270억 다이아 박은 美래퍼…아름다움은 고통</td>\n",
       "      <td>르포 차이잉원 10만 대만 군중 앞에서 오늘의 홍콩 봐라</td>\n",
       "    </tr>\n",
       "    <tr>\n",
       "      <th>722</th>\n",
       "      <td>美외신 알리바바 이후 최대어 쿠팡에 쏟아지는 관심</td>\n",
       "      <td>홍콩 시민단체의 중국인 관광객 반대 시위를 보도한 SCMP</td>\n",
       "    </tr>\n",
       "    <tr>\n",
       "      <th>751</th>\n",
       "      <td>WTO 첫 흑인·여성 수장 오콘조이웨알라… 강단·노련함 갖춘 협상가</td>\n",
       "      <td>쿠슈너 팔레스타인 美 자금지원 받으면 평화안 수용해야</td>\n",
       "    </tr>\n",
       "    <tr>\n",
       "      <th>808</th>\n",
       "      <td>일본, 고독·고립 대책실 만든다… 코로나 블루에 자살도 급증</td>\n",
       "      <td>캐나다 최대 일간지 건물 폭발물 설치 협박…대피 소동</td>\n",
       "    </tr>\n",
       "    <tr>\n",
       "      <th>856</th>\n",
       "      <td>영하 18도 이상 혹한에 美 300만 가구 정전… 접종도 차질</td>\n",
       "      <td>중국 무역전쟁 속 최대 이벤트 양회 오늘 개막종합</td>\n",
       "    </tr>\n",
       "    <tr>\n",
       "      <th>898</th>\n",
       "      <td>미국 코로나19 누적 사망자 50만명 돌파</td>\n",
       "      <td>러시아 재벌 아스널 인수 추진…1조4천억원 제안</td>\n",
       "    </tr>\n",
       "    <tr>\n",
       "      <th>899</th>\n",
       "      <td>트위터, 2025년까지 임원 25% 소수자로 충원한다</td>\n",
       "      <td>홍콩 시위대경찰 또 격렬 충돌…시위대 中 오성홍기 불태워종합</td>\n",
       "    </tr>\n",
       "    <tr>\n",
       "      <th>913</th>\n",
       "      <td>일본계 미국인 강제 수용은 부도덕하고 위헌적</td>\n",
       "      <td>택시에 신생아 깜박 놓고 내린 獨부모…기사도 몰라</td>\n",
       "    </tr>\n",
       "    <tr>\n",
       "      <th>942</th>\n",
       "      <td>콩고 주재 이탈리아 대사, 괴한 공격으로 사망</td>\n",
       "      <td>홍콩 경찰 시위대 최후 보루 이공대 진입…전쟁터 방불종합</td>\n",
       "    </tr>\n",
       "  </tbody>\n",
       "</table>\n",
       "</div>"
      ],
      "text/plain": [
       "                                       hub                               klue\n",
       "0      시진핑엔 선물, 바이든엔 모욕… 유럽의회서 막힌 中·EU투자협정   홍콩 행정장관 유화 제스처…시위대 요구 일부 수용 시사종합\n",
       "70               추리 작가 힐러리, 공동집필 소설 10월 발간            이란 혁명수비대 테러조직 지정에 중동 양분\n",
       "73       뉴욕증시, 초반 약세 극복 사상 최고 마감…다우 1.35%↑             이집트 고대 지하묘지 복구 프로젝트 완료\n",
       "112        피가 뚝뚝, 기린 심장 들고 인증샷 찍은 여성…비난 봇물           中 대만정책 선거결과에 따라 바뀌지 않을 것\n",
       "116           다리 6개, 꼬리 2개 쌍둥이 태아와 합체한 강아지   브라질 소두증 의심사례 4천건 넘어…신생아 12명 사망종합\n",
       "132    1회 접종으로 끝 얀센 백신 美승인 임박… 남아공 변이에도 효과  러서방 세력접점 우크라이나 대선투표…역대 최다 39명 입후보\n",
       "168           WHO 속였다 코로나 폭발 이탈리아 거짓보고서 논란   튀니지 해역 떠돌던 방글라 이주자 30여명 본국 강제 송환\n",
       "267           스푸트니크V 효능 90%↑…러시아산 백신 유럽 뚫나       사우디 석유장관 유가 변동성 60∼86달러로 좁혀야\n",
       "375            로이터 미얀마 군경, 만달레이서 시위대 향해 발포         2.8독립선언 일본·대만·중국 역사에도 큰 의미\n",
       "460            보이콧은 없다…中왕이 베이징올림픽 카운트다운 시작    총알녹여 만든 펜으로…콜롬비아정부반군 52년만의 평화서명\n",
       "513                 中, 美쿼드 압박에 약한 고리 인도 공략            민주콩고 수도 킨샤사서 폭우로 19명 사망\n",
       "526           이마에 270억 다이아 박은 美래퍼…아름다움은 고통    르포 차이잉원 10만 대만 군중 앞에서 오늘의 홍콩 봐라\n",
       "722            美외신 알리바바 이후 최대어 쿠팡에 쏟아지는 관심   홍콩 시민단체의 중국인 관광객 반대 시위를 보도한 SCMP\n",
       "751  WTO 첫 흑인·여성 수장 오콘조이웨알라… 강단·노련함 갖춘 협상가      쿠슈너 팔레스타인 美 자금지원 받으면 평화안 수용해야\n",
       "808      일본, 고독·고립 대책실 만든다… 코로나 블루에 자살도 급증      캐나다 최대 일간지 건물 폭발물 설치 협박…대피 소동\n",
       "856     영하 18도 이상 혹한에 美 300만 가구 정전… 접종도 차질        중국 무역전쟁 속 최대 이벤트 양회 오늘 개막종합\n",
       "898                미국 코로나19 누적 사망자 50만명 돌파         러시아 재벌 아스널 인수 추진…1조4천억원 제안\n",
       "899          트위터, 2025년까지 임원 25% 소수자로 충원한다  홍콩 시위대경찰 또 격렬 충돌…시위대 中 오성홍기 불태워종합\n",
       "913               일본계 미국인 강제 수용은 부도덕하고 위헌적        택시에 신생아 깜박 놓고 내린 獨부모…기사도 몰라\n",
       "942              콩고 주재 이탈리아 대사, 괴한 공격으로 사망    홍콩 경찰 시위대 최후 보루 이공대 진입…전쟁터 방불종합"
      ]
     },
     "execution_count": 53,
     "metadata": {},
     "output_type": "execute_result"
    }
   ],
   "source": [
    "world = pd.DataFrame(news_world.input_text).merge(pd.DataFrame(klue_world.text), left_index=True, right_index=True)\n",
    "world.columns = ['hub', 'klue']\n",
    "world.head(20)"
   ]
  },
  {
   "cell_type": "code",
   "execution_count": 55,
   "metadata": {},
   "outputs": [
    {
     "data": {
      "text/html": [
       "<div>\n",
       "<style scoped>\n",
       "    .dataframe tbody tr th:only-of-type {\n",
       "        vertical-align: middle;\n",
       "    }\n",
       "\n",
       "    .dataframe tbody tr th {\n",
       "        vertical-align: top;\n",
       "    }\n",
       "\n",
       "    .dataframe thead th {\n",
       "        text-align: right;\n",
       "    }\n",
       "</style>\n",
       "<table border=\"1\" class=\"dataframe\">\n",
       "  <thead>\n",
       "    <tr style=\"text-align: right;\">\n",
       "      <th></th>\n",
       "      <th>hub</th>\n",
       "      <th>klue</th>\n",
       "    </tr>\n",
       "  </thead>\n",
       "  <tbody>\n",
       "    <tr>\n",
       "      <th>50</th>\n",
       "      <td>내가 슈워버보다 못하다고? 추신수, 한국행 결심 이유</td>\n",
       "      <td>남자 배구 현대캐피탈 다우디 효과로 신나는 3연승종합</td>\n",
       "    </tr>\n",
       "    <tr>\n",
       "      <th>87</th>\n",
       "      <td>虎사다마… 타이거 우즈, 골프 인생 최대 위기</td>\n",
       "      <td>신영철 감독 아가메즈는 서브에 초점…경기감각 끌어올리겠다</td>\n",
       "    </tr>\n",
       "    <tr>\n",
       "      <th>400</th>\n",
       "      <td>봅슬레이 원윤종 팀, 3년 연속 세계10위권…베이징 메달 기대 높여</td>\n",
       "      <td>여자농구 레알 신한이 어쩌다 1승 9패…이거 레알이냐</td>\n",
       "    </tr>\n",
       "    <tr>\n",
       "      <th>610</th>\n",
       "      <td>레이커스 맹추격에도 서부 1위 사수한 유타 4연승</td>\n",
       "      <td>KBL 유스 엘리트 캠프 개최…국가대표 허재 감독 지도</td>\n",
       "    </tr>\n",
       "    <tr>\n",
       "      <th>641</th>\n",
       "      <td>슈퍼볼의 전설은 계속된다… 44세 브래디 다시 돌아온다</td>\n",
       "      <td>이상백배 한일대학농구대회 18일 인천서 개막</td>\n",
       "    </tr>\n",
       "    <tr>\n",
       "      <th>961</th>\n",
       "      <td>국제수영연맹, 한국 최초로 황선우 세계신기록 공식 인정</td>\n",
       "      <td>차·포 뗀 현대모비스·인삼공사 24일 울산서 맞대결</td>\n",
       "    </tr>\n",
       "    <tr>\n",
       "      <th>1031</th>\n",
       "      <td>금강산 아난티 골프장서 세계 아마팀 대회 열겠다</td>\n",
       "      <td>함께여서 다행…김해란과 이재영의 행복한 동행</td>\n",
       "    </tr>\n",
       "    <tr>\n",
       "      <th>1044</th>\n",
       "      <td>토트넘 유로파리그 상대 자그레브 횡령 혐의 실형 감독 사퇴로 내홍</td>\n",
       "      <td>V리그 대한항공 한국전력에 대역전극…2위 포기 못 해...</td>\n",
       "    </tr>\n",
       "    <tr>\n",
       "      <th>1164</th>\n",
       "      <td>추신수·최지만·양현종 도쿄올림픽 야구대표팀 예비 명단 발표</td>\n",
       "      <td>레일리 첫승·번즈 2점포…롯데 LG에 위닝시리즈</td>\n",
       "    </tr>\n",
       "    <tr>\n",
       "      <th>1215</th>\n",
       "      <td>20년 만에 사직에서 다시 맞대결 펼친 이대호·추신수</td>\n",
       "      <td>임도헌호의 도전…남자배구 20년 만의 올림픽 본선 꿈꾼다</td>\n",
       "    </tr>\n",
       "    <tr>\n",
       "      <th>1251</th>\n",
       "      <td>아직은 시범경기일 뿐 몸 덜 풀린 코리안 메이저리거</td>\n",
       "      <td>프로배구 OK저축은행 최홍석 영입…한국전력과 2대 1 트레이드</td>\n",
       "    </tr>\n",
       "    <tr>\n",
       "      <th>1328</th>\n",
       "      <td>성남FC, 서포터즈 얘네들 지칭한 메일 논란…구단 공식 사과</td>\n",
       "      <td>표승주 센터 기용…GS칼텍스의 1위 수성 전략</td>\n",
       "    </tr>\n",
       "    <tr>\n",
       "      <th>1390</th>\n",
       "      <td>미들급 역대 최강 헤글러 별세</td>\n",
       "      <td>토트넘 포체티노 감독 손흥민 훌륭한 활약</td>\n",
       "    </tr>\n",
       "    <tr>\n",
       "      <th>1452</th>\n",
       "      <td>명품 포워드 박정은, 위기의 BNK 새 사령탑에</td>\n",
       "      <td>추신수 타율 0.265로 시즌 마감…최지만은 19홈런·6...</td>\n",
       "    </tr>\n",
       "    <tr>\n",
       "      <th>1557</th>\n",
       "      <td>MLB 13개 구단 관중입장 계획 확정..20개 구단 이상 허용 전망</td>\n",
       "      <td>MLB닷컴 개막 로스터 1·2선발은 힐·류현진</td>\n",
       "    </tr>\n",
       "    <tr>\n",
       "      <th>1952</th>\n",
       "      <td>괴물 홀란드, UCL 최소 경기 20골</td>\n",
       "      <td>리베라 득표율 100 신화·첫 만장일치로 MLB 명예의...</td>\n",
       "    </tr>\n",
       "    <tr>\n",
       "      <th>2045</th>\n",
       "      <td>휠라, 스포츠 앰배서더 4인방 나의 스포츠 캠페인 공개</td>\n",
       "      <td>아프리카TV 프로야구 생중계·VOD 개시</td>\n",
       "    </tr>\n",
       "    <tr>\n",
       "      <th>2218</th>\n",
       "      <td>셰필드 승격시킨 크리스 와일더 감독 경질</td>\n",
       "      <td>이도희 현대건설 감독 황연주 활용법 고민이다</td>\n",
       "    </tr>\n",
       "    <tr>\n",
       "      <th>2280</th>\n",
       "      <td>알파인 맏형 김상겸 세계선수권대회 4위</td>\n",
       "      <td>통합 MVP 이재영 눈물의 소감 작년 힘들었어요</td>\n",
       "    </tr>\n",
       "    <tr>\n",
       "      <th>2351</th>\n",
       "      <td>바르사 게이트에 몸살 앓는 바르셀로나</td>\n",
       "      <td>200홈런은 다음에…추신수 1안타에 1득점</td>\n",
       "    </tr>\n",
       "  </tbody>\n",
       "</table>\n",
       "</div>"
      ],
      "text/plain": [
       "                                         hub   \n",
       "50             내가 슈워버보다 못하다고? 추신수, 한국행 결심 이유  \\\n",
       "87                 虎사다마… 타이거 우즈, 골프 인생 최대 위기   \n",
       "400    봅슬레이 원윤종 팀, 3년 연속 세계10위권…베이징 메달 기대 높여   \n",
       "610              레이커스 맹추격에도 서부 1위 사수한 유타 4연승   \n",
       "641           슈퍼볼의 전설은 계속된다… 44세 브래디 다시 돌아온다   \n",
       "961           국제수영연맹, 한국 최초로 황선우 세계신기록 공식 인정   \n",
       "1031              금강산 아난티 골프장서 세계 아마팀 대회 열겠다   \n",
       "1044    토트넘 유로파리그 상대 자그레브 횡령 혐의 실형 감독 사퇴로 내홍   \n",
       "1164        추신수·최지만·양현종 도쿄올림픽 야구대표팀 예비 명단 발표   \n",
       "1215           20년 만에 사직에서 다시 맞대결 펼친 이대호·추신수   \n",
       "1251            아직은 시범경기일 뿐 몸 덜 풀린 코리안 메이저리거   \n",
       "1328       성남FC, 서포터즈 얘네들 지칭한 메일 논란…구단 공식 사과   \n",
       "1390                        미들급 역대 최강 헤글러 별세   \n",
       "1452              명품 포워드 박정은, 위기의 BNK 새 사령탑에   \n",
       "1557  MLB 13개 구단 관중입장 계획 확정..20개 구단 이상 허용 전망   \n",
       "1952                   괴물 홀란드, UCL 최소 경기 20골   \n",
       "2045          휠라, 스포츠 앰배서더 4인방 나의 스포츠 캠페인 공개   \n",
       "2218                  셰필드 승격시킨 크리스 와일더 감독 경질   \n",
       "2280                   알파인 맏형 김상겸 세계선수권대회 4위   \n",
       "2351                    바르사 게이트에 몸살 앓는 바르셀로나   \n",
       "\n",
       "                                    klue  \n",
       "50         남자 배구 현대캐피탈 다우디 효과로 신나는 3연승종합  \n",
       "87       신영철 감독 아가메즈는 서브에 초점…경기감각 끌어올리겠다  \n",
       "400        여자농구 레알 신한이 어쩌다 1승 9패…이거 레알이냐  \n",
       "610       KBL 유스 엘리트 캠프 개최…국가대표 허재 감독 지도  \n",
       "641             이상백배 한일대학농구대회 18일 인천서 개막  \n",
       "961         차·포 뗀 현대모비스·인삼공사 24일 울산서 맞대결  \n",
       "1031            함께여서 다행…김해란과 이재영의 행복한 동행  \n",
       "1044    V리그 대한항공 한국전력에 대역전극…2위 포기 못 해...  \n",
       "1164          레일리 첫승·번즈 2점포…롯데 LG에 위닝시리즈  \n",
       "1215     임도헌호의 도전…남자배구 20년 만의 올림픽 본선 꿈꾼다  \n",
       "1251  프로배구 OK저축은행 최홍석 영입…한국전력과 2대 1 트레이드  \n",
       "1328           표승주 센터 기용…GS칼텍스의 1위 수성 전략  \n",
       "1390              토트넘 포체티노 감독 손흥민 훌륭한 활약  \n",
       "1452  추신수 타율 0.265로 시즌 마감…최지만은 19홈런·6...  \n",
       "1557           MLB닷컴 개막 로스터 1·2선발은 힐·류현진  \n",
       "1952   리베라 득표율 100 신화·첫 만장일치로 MLB 명예의...  \n",
       "2045              아프리카TV 프로야구 생중계·VOD 개시  \n",
       "2218            이도희 현대건설 감독 황연주 활용법 고민이다  \n",
       "2280          통합 MVP 이재영 눈물의 소감 작년 힘들었어요  \n",
       "2351             200홈런은 다음에…추신수 1안타에 1득점  "
      ]
     },
     "execution_count": 55,
     "metadata": {},
     "output_type": "execute_result"
    }
   ],
   "source": [
    "sports = pd.DataFrame(news_sports.input_text).merge(pd.DataFrame(klue_sports.text), left_index=True, right_index=True)\n",
    "sports.columns = ['hub', 'klue']\n",
    "sports.head(20)"
   ]
  },
  {
   "cell_type": "code",
   "execution_count": 56,
   "metadata": {},
   "outputs": [
    {
     "data": {
      "text/html": [
       "<div>\n",
       "<style scoped>\n",
       "    .dataframe tbody tr th:only-of-type {\n",
       "        vertical-align: middle;\n",
       "    }\n",
       "\n",
       "    .dataframe tbody tr th {\n",
       "        vertical-align: top;\n",
       "    }\n",
       "\n",
       "    .dataframe thead th {\n",
       "        text-align: right;\n",
       "    }\n",
       "</style>\n",
       "<table border=\"1\" class=\"dataframe\">\n",
       "  <thead>\n",
       "    <tr style=\"text-align: right;\">\n",
       "      <th></th>\n",
       "      <th>hub</th>\n",
       "      <th>klue</th>\n",
       "    </tr>\n",
       "  </thead>\n",
       "  <tbody>\n",
       "    <tr>\n",
       "      <th>16</th>\n",
       "      <td>김정은, 해·공군 사령관 세대교체…젊은 피로 친정체제 강화</td>\n",
       "      <td>개성공단 중단 중단발표에서 철수까지…긴박했던 29시간</td>\n",
       "    </tr>\n",
       "    <tr>\n",
       "      <th>32</th>\n",
       "      <td>가덕신공항 특별법 앞 여전히 자중지란 국민의힘</td>\n",
       "      <td>오신환 北어선 진입에 국정조사·국방장관 해임건의안 추진</td>\n",
       "    </tr>\n",
       "    <tr>\n",
       "      <th>36</th>\n",
       "      <td>검찰개혁 완수 고리… 국정 주도권, 청와대에서 민주당으로</td>\n",
       "      <td>전문 朴대통령 연설문 사전 유출 대국민사과</td>\n",
       "    </tr>\n",
       "    <tr>\n",
       "      <th>62</th>\n",
       "      <td>北 김정은, 당 중앙군사위원회 확대회의 주재</td>\n",
       "      <td>신년담화·회견 ⑨ 국회 선진화법 소화할 능력 안돼</td>\n",
       "    </tr>\n",
       "    <tr>\n",
       "      <th>74</th>\n",
       "      <td>불통 지적한 금태섭, 다시는 그런 일 없다 사과한 안철수</td>\n",
       "      <td>올림픽 평창에서 만난 문 대통령과 북한 김영남 최고인민회의 상임위원장</td>\n",
       "    </tr>\n",
       "    <tr>\n",
       "      <th>77</th>\n",
       "      <td>정세균 내일 백신접종 시작…집단면역 꿈 실현</td>\n",
       "      <td>평화당 당대표·최고위원 선거 후보로 6명 등록</td>\n",
       "    </tr>\n",
       "    <tr>\n",
       "      <th>216</th>\n",
       "      <td>ADB 사무총장 엄우종 선임 축하한 문 대통령</td>\n",
       "      <td>유영민 장관 미래부 체질 개선 시작…혁신TF 가동</td>\n",
       "    </tr>\n",
       "    <tr>\n",
       "      <th>224</th>\n",
       "      <td>설전벌인 나경원·오세훈…책임정치해라 vs 실현 가능하냐</td>\n",
       "      <td>北도발 좌시못해…트럼프의 한미FTA 비판근거 사실과 달라</td>\n",
       "    </tr>\n",
       "    <tr>\n",
       "      <th>314</th>\n",
       "      <td>사퇴 압박 홍남기…재정 우려, 굉장히 절제해 말한 것</td>\n",
       "      <td>이총리 국회 예산부수법안 빨리 처리해달라…해넘겨선 안돼</td>\n",
       "    </tr>\n",
       "    <tr>\n",
       "      <th>321</th>\n",
       "      <td>화이자 백신 당장 들어와도 빈틈 없다…文, 백신 수송 모의훈련 참관</td>\n",
       "      <td>나경원 김학의 특검·드루킹 재특검 맞바꾸자…與 어불성설종합</td>\n",
       "    </tr>\n",
       "    <tr>\n",
       "      <th>411</th>\n",
       "      <td>저서 출간나선 이낙연, 문재인 운명처럼 효과 발휘?</td>\n",
       "      <td>문대통령 지난 25년과 차원달라 북미정상회담 구하기 진력</td>\n",
       "    </tr>\n",
       "    <tr>\n",
       "      <th>415</th>\n",
       "      <td>바레인 국왕 만난 박병석 인프라 사업에 韓 기업 참여 희망</td>\n",
       "      <td>민주 12일 첫 대규모 장외투쟁…거리로 나서는 제1야당</td>\n",
       "    </tr>\n",
       "    <tr>\n",
       "      <th>440</th>\n",
       "      <td>한미연합훈련 3월 둘째주 가닥…9일간 진행될 듯</td>\n",
       "      <td>UAE 칼둔 행정청장 내일 방한…문 대통령·임 실장과 면담 전망종합</td>\n",
       "    </tr>\n",
       "    <tr>\n",
       "      <th>441</th>\n",
       "      <td>김남국, 곽상도 저격 국민 혈세로 문준용 스토킹만</td>\n",
       "      <td>북 수소탄실험 국회 정보위 오후 8시 소집…국정원 보고</td>\n",
       "    </tr>\n",
       "    <tr>\n",
       "      <th>442</th>\n",
       "      <td>안철수·금태섭, 18일 TV토론 합의…80분간 진행</td>\n",
       "      <td>北 당대회 참가자에 청와대 타격 훈련 공개 가능성</td>\n",
       "    </tr>\n",
       "    <tr>\n",
       "      <th>451</th>\n",
       "      <td>우상호, 왜 인지도 낮을까… 범진보 재결집 정책·노선 제시할 것</td>\n",
       "      <td>국기에 경례하는 안철수</td>\n",
       "    </tr>\n",
       "    <tr>\n",
       "      <th>502</th>\n",
       "      <td>경기도 재난기본소득 신청 절반 넘었다…누적 7047억</td>\n",
       "      <td>국무조정실 국정기획위 업무보고 자료 유출 조사 착수</td>\n",
       "    </tr>\n",
       "    <tr>\n",
       "      <th>575</th>\n",
       "      <td>김정숙 여사의 어린이 사랑…설 맞아 직접 구연동화</td>\n",
       "      <td>국방부 北 풍계리 핵실험장 계속 감시중…준비는 완료돼</td>\n",
       "    </tr>\n",
       "    <tr>\n",
       "      <th>705</th>\n",
       "      <td>노동신문 선전선동 실세 리재일 사망…김정은 애도</td>\n",
       "      <td>단독北김정은금수저 탈북에 해외검열단 급파…책임자 고사총 처형종합</td>\n",
       "    </tr>\n",
       "    <tr>\n",
       "      <th>785</th>\n",
       "      <td>박형준, MB 정권 실세 vs 이언주,박근혜 탄핵 앞장</td>\n",
       "      <td>朴대통령 유연근무제 확산 위해 인프라 비용 지원 검토종합</td>\n",
       "    </tr>\n",
       "  </tbody>\n",
       "</table>\n",
       "</div>"
      ],
      "text/plain": [
       "                                       hub   \n",
       "16        김정은, 해·공군 사령관 세대교체…젊은 피로 친정체제 강화  \\\n",
       "32               가덕신공항 특별법 앞 여전히 자중지란 국민의힘   \n",
       "36         검찰개혁 완수 고리… 국정 주도권, 청와대에서 민주당으로   \n",
       "62                北 김정은, 당 중앙군사위원회 확대회의 주재   \n",
       "74         불통 지적한 금태섭, 다시는 그런 일 없다 사과한 안철수   \n",
       "77                정세균 내일 백신접종 시작…집단면역 꿈 실현   \n",
       "216              ADB 사무총장 엄우종 선임 축하한 문 대통령   \n",
       "224         설전벌인 나경원·오세훈…책임정치해라 vs 실현 가능하냐   \n",
       "314          사퇴 압박 홍남기…재정 우려, 굉장히 절제해 말한 것   \n",
       "321  화이자 백신 당장 들어와도 빈틈 없다…文, 백신 수송 모의훈련 참관   \n",
       "411           저서 출간나선 이낙연, 문재인 운명처럼 효과 발휘?   \n",
       "415       바레인 국왕 만난 박병석 인프라 사업에 韓 기업 참여 희망   \n",
       "440             한미연합훈련 3월 둘째주 가닥…9일간 진행될 듯   \n",
       "441            김남국, 곽상도 저격 국민 혈세로 문준용 스토킹만   \n",
       "442           안철수·금태섭, 18일 TV토론 합의…80분간 진행   \n",
       "451    우상호, 왜 인지도 낮을까… 범진보 재결집 정책·노선 제시할 것   \n",
       "502          경기도 재난기본소득 신청 절반 넘었다…누적 7047억   \n",
       "575            김정숙 여사의 어린이 사랑…설 맞아 직접 구연동화   \n",
       "705             노동신문 선전선동 실세 리재일 사망…김정은 애도   \n",
       "785         박형준, MB 정권 실세 vs 이언주,박근혜 탄핵 앞장   \n",
       "\n",
       "                                       klue  \n",
       "16            개성공단 중단 중단발표에서 철수까지…긴박했던 29시간  \n",
       "32           오신환 北어선 진입에 국정조사·국방장관 해임건의안 추진  \n",
       "36                  전문 朴대통령 연설문 사전 유출 대국민사과  \n",
       "62              신년담화·회견 ⑨ 국회 선진화법 소화할 능력 안돼  \n",
       "74   올림픽 평창에서 만난 문 대통령과 북한 김영남 최고인민회의 상임위원장  \n",
       "77                평화당 당대표·최고위원 선거 후보로 6명 등록  \n",
       "216             유영민 장관 미래부 체질 개선 시작…혁신TF 가동  \n",
       "224         北도발 좌시못해…트럼프의 한미FTA 비판근거 사실과 달라  \n",
       "314          이총리 국회 예산부수법안 빨리 처리해달라…해넘겨선 안돼  \n",
       "321        나경원 김학의 특검·드루킹 재특검 맞바꾸자…與 어불성설종합  \n",
       "411         문대통령 지난 25년과 차원달라 북미정상회담 구하기 진력  \n",
       "415          민주 12일 첫 대규모 장외투쟁…거리로 나서는 제1야당  \n",
       "440   UAE 칼둔 행정청장 내일 방한…문 대통령·임 실장과 면담 전망종합  \n",
       "441          북 수소탄실험 국회 정보위 오후 8시 소집…국정원 보고  \n",
       "442             北 당대회 참가자에 청와대 타격 훈련 공개 가능성  \n",
       "451                            국기에 경례하는 안철수  \n",
       "502            국무조정실 국정기획위 업무보고 자료 유출 조사 착수  \n",
       "575           국방부 北 풍계리 핵실험장 계속 감시중…준비는 완료돼  \n",
       "705     단독北김정은금수저 탈북에 해외검열단 급파…책임자 고사총 처형종합  \n",
       "785         朴대통령 유연근무제 확산 위해 인프라 비용 지원 검토종합  "
      ]
     },
     "execution_count": 56,
     "metadata": {},
     "output_type": "execute_result"
    }
   ],
   "source": [
    "politic = pd.DataFrame(news_politic.input_text).merge(pd.DataFrame(klue_politic.text), left_index=True, right_index=True)\n",
    "politic.columns = ['hub', 'klue']\n",
    "politic.head(20)"
   ]
  },
  {
   "attachments": {},
   "cell_type": "markdown",
   "metadata": {},
   "source": [
    "- 코로나(바이러스)\n",
    "- 감염(전염, 방역)\n",
    "- 유행\n",
    "- 마스크(병원, 약국, 의료)\n",
    "- 백신(접종, 화이자, 얀센, 모더나)\n",
    "- 거리두기(단계)\n",
    "- 확진(의심)\n",
    "- 격리\n",
    "- 동선\n",
    "- 팬데믹(WHO, 판데믹)"
   ]
  },
  {
   "cell_type": "code",
   "execution_count": 69,
   "metadata": {},
   "outputs": [
    {
     "name": "stdout",
     "output_type": "stream",
     "text": [
      "[Delete COVID-19 Keyword]\n"
     ]
    },
    {
     "name": "stderr",
     "output_type": "stream",
     "text": [
      "100%|██████████| 121007/121007 [05:27<00:00, 369.02it/s]"
     ]
    },
    {
     "name": "stdout",
     "output_type": "stream",
     "text": [
      "Cleaned COVID: 14873\n"
     ]
    },
    {
     "name": "stderr",
     "output_type": "stream",
     "text": [
      "\n"
     ]
    }
   ],
   "source": [
    "print(\"[Delete COVID-19 Keyword]\")\n",
    "covid_words = ['코로나', '바이러스', '감염', '전염', '유행', '마스크', '병원', '약국', '의료',\n",
    "               '백신', '접종', '화이자', '얀센', '모더나', '거리두기', '단계', '확진', '의심',\n",
    "               '격리', '동선', '팬데믹', 'WHO', '판데믹', '방역']\n",
    "\n",
    "news_cleaned = news.copy()\n",
    "cleaned_count = 0\n",
    "for idx, n in tqdm(news.iterrows(), total=len(news)):\n",
    "    for covid_word in covid_words:\n",
    "        if covid_word in n.input_text:\n",
    "            news_cleaned = news_cleaned.drop(idx)\n",
    "            cleaned_count += 1\n",
    "            break\n",
    "\n",
    "print(\"Cleaned COVID:\", cleaned_count)"
   ]
  },
  {
   "cell_type": "code",
   "execution_count": 70,
   "metadata": {},
   "outputs": [
    {
     "data": {
      "text/html": [
       "<div>\n",
       "<style scoped>\n",
       "    .dataframe tbody tr th:only-of-type {\n",
       "        vertical-align: middle;\n",
       "    }\n",
       "\n",
       "    .dataframe tbody tr th {\n",
       "        vertical-align: top;\n",
       "    }\n",
       "\n",
       "    .dataframe thead th {\n",
       "        text-align: right;\n",
       "    }\n",
       "</style>\n",
       "<table border=\"1\" class=\"dataframe\">\n",
       "  <thead>\n",
       "    <tr style=\"text-align: right;\">\n",
       "      <th></th>\n",
       "      <th>hub</th>\n",
       "      <th>klue</th>\n",
       "    </tr>\n",
       "  </thead>\n",
       "  <tbody>\n",
       "    <tr>\n",
       "      <th>27</th>\n",
       "      <td>파주메디컬클러스터 조성 사업 본격화…2024년 완료 목표</td>\n",
       "      <td>코레일 산불 피해지역 상생발전 위한 여행사 간담회 개최</td>\n",
       "    </tr>\n",
       "    <tr>\n",
       "      <th>64</th>\n",
       "      <td>또 하나의 수도권 동남권 메가시티 위한 기반 구축 본격화</td>\n",
       "      <td>에쓰오일 서울 사회복지협의회에 1억3천700만원 기부</td>\n",
       "    </tr>\n",
       "    <tr>\n",
       "      <th>75</th>\n",
       "      <td>웹툰협회 등 콘텐츠업계 웹하드 6곳 추가 고발</td>\n",
       "      <td>추락한 日 F35A 전투기 이전에도 2차례 긴급착륙 전력</td>\n",
       "    </tr>\n",
       "    <tr>\n",
       "      <th>93</th>\n",
       "      <td>산삼의 고장 함양, 산삼항노화엑스포 성공 개최 총력</td>\n",
       "      <td>방정오 측 故장자연과 통화 보도 사실무근…법적대응</td>\n",
       "    </tr>\n",
       "    <tr>\n",
       "      <th>136</th>\n",
       "      <td>포항시, 주소갖기 릴레이 챌린지 펼친다</td>\n",
       "      <td>포켓몬 실행 부산 모 학교 가보니 불안정한 게임사냥</td>\n",
       "    </tr>\n",
       "    <tr>\n",
       "      <th>141</th>\n",
       "      <td>빛고을의 밤, 미디어아트로 빛난다</td>\n",
       "      <td>자유연대 사법부 개혁 촉구 공수처 반대</td>\n",
       "    </tr>\n",
       "    <tr>\n",
       "      <th>145</th>\n",
       "      <td>尹 출마제한법에… 법무부 취지 공감, 의견 수렴해야</td>\n",
       "      <td>대법 지상파 무단 재송신 배상액 산정 땐 무료가입자 빼야</td>\n",
       "    </tr>\n",
       "    <tr>\n",
       "      <th>227</th>\n",
       "      <td>당신과 일하기 싫다 논란… 카카오 직원, 고용부 청원</td>\n",
       "      <td>네이버 제2데이터센터 후보지 10곳 선정</td>\n",
       "    </tr>\n",
       "    <tr>\n",
       "      <th>236</th>\n",
       "      <td>지원금 업무 고강도 압박 고용부 한달 새 2명 숨져</td>\n",
       "      <td>표준감사시간 도입시 감사시간 평균 65% 증가</td>\n",
       "    </tr>\n",
       "    <tr>\n",
       "      <th>246</th>\n",
       "      <td>직원에 임상시험한 안국약품 전 연구소장, 벌금형</td>\n",
       "      <td>미디어·정보 리터러시 논하는 첫 국제 심포지엄</td>\n",
       "    </tr>\n",
       "    <tr>\n",
       "      <th>289</th>\n",
       "      <td>수정과와 식혜, 테이크아웃 컵에 담아 제공합니다</td>\n",
       "      <td>한국전 참전 미군 유해 실종 65년 만에 고향 뉴욕으로 송환</td>\n",
       "    </tr>\n",
       "    <tr>\n",
       "      <th>291</th>\n",
       "      <td>인구절벽 넘어서야 생존… 부산·경북 대책 마련 나섰다</td>\n",
       "      <td>영상 뉴스·실검 뺀 네이버 첫화면…뉴스 편집 논란 해소될까</td>\n",
       "    </tr>\n",
       "    <tr>\n",
       "      <th>316</th>\n",
       "      <td>최대 10㎝ 폭설 예보…서울시 약 9000명 제설대응 투입</td>\n",
       "      <td>비선 진료 의혹 김영재 원장 집·사무실 전격 압수수색2보</td>\n",
       "    </tr>\n",
       "    <tr>\n",
       "      <th>363</th>\n",
       "      <td>경남 창원시, 드론산업 중심지로 부상</td>\n",
       "      <td>롯데 檢수사로 자금조달 계획 차질</td>\n",
       "    </tr>\n",
       "    <tr>\n",
       "      <th>373</th>\n",
       "      <td>경기도콘텐츠진흥원 영화분야 주요지원사업 발표</td>\n",
       "      <td>명분 비해 실속 아쉬운 저널리즘 토크쇼J·페이크</td>\n",
       "    </tr>\n",
       "    <tr>\n",
       "      <th>379</th>\n",
       "      <td>오지도, 가지도 않는다…대구 관광 위기</td>\n",
       "      <td>작년 아동·청소년 하루평균 44분 게임…33.3%↑</td>\n",
       "    </tr>\n",
       "    <tr>\n",
       "      <th>402</th>\n",
       "      <td>접경지 상인들 휴가보다는 외출·외박 풀려야 산다</td>\n",
       "      <td>졸업의 기쁨 육사생도들</td>\n",
       "    </tr>\n",
       "    <tr>\n",
       "      <th>421</th>\n",
       "      <td>다시 추워진다, 전국 곳곳 한파특보… 16일 중부 눈 소식</td>\n",
       "      <td>경총 반도체 근로자 산재 인정 간소화 제도 취지에 어긋나</td>\n",
       "    </tr>\n",
       "    <tr>\n",
       "      <th>444</th>\n",
       "      <td>전남도, 청년 희망디딤돌 통장 만기적립금 지급</td>\n",
       "      <td>우리는 위안부 아닌 전쟁강간 피해자</td>\n",
       "    </tr>\n",
       "    <tr>\n",
       "      <th>487</th>\n",
       "      <td>춘천에 국내 첫 레고랜드 호텔 들어선다</td>\n",
       "      <td>3만원 식사접대받고 자리옮겨 커피 얻어마시면 김영란법 위반</td>\n",
       "    </tr>\n",
       "  </tbody>\n",
       "</table>\n",
       "</div>"
      ],
      "text/plain": [
       "                                  hub                               klue\n",
       "27    파주메디컬클러스터 조성 사업 본격화…2024년 완료 목표     코레일 산불 피해지역 상생발전 위한 여행사 간담회 개최\n",
       "64    또 하나의 수도권 동남권 메가시티 위한 기반 구축 본격화      에쓰오일 서울 사회복지협의회에 1억3천700만원 기부\n",
       "75          웹툰협회 등 콘텐츠업계 웹하드 6곳 추가 고발    추락한 日 F35A 전투기 이전에도 2차례 긴급착륙 전력\n",
       "93       산삼의 고장 함양, 산삼항노화엑스포 성공 개최 총력        방정오 측 故장자연과 통화 보도 사실무근…법적대응\n",
       "136             포항시, 주소갖기 릴레이 챌린지 펼친다       포켓몬 실행 부산 모 학교 가보니 불안정한 게임사냥\n",
       "141                빛고을의 밤, 미디어아트로 빛난다              자유연대 사법부 개혁 촉구 공수처 반대\n",
       "145      尹 출마제한법에… 법무부 취지 공감, 의견 수렴해야    대법 지상파 무단 재송신 배상액 산정 땐 무료가입자 빼야\n",
       "227     당신과 일하기 싫다 논란… 카카오 직원, 고용부 청원             네이버 제2데이터센터 후보지 10곳 선정\n",
       "236      지원금 업무 고강도 압박 고용부 한달 새 2명 숨져          표준감사시간 도입시 감사시간 평균 65% 증가\n",
       "246        직원에 임상시험한 안국약품 전 연구소장, 벌금형          미디어·정보 리터러시 논하는 첫 국제 심포지엄\n",
       "289        수정과와 식혜, 테이크아웃 컵에 담아 제공합니다  한국전 참전 미군 유해 실종 65년 만에 고향 뉴욕으로 송환\n",
       "291     인구절벽 넘어서야 생존… 부산·경북 대책 마련 나섰다   영상 뉴스·실검 뺀 네이버 첫화면…뉴스 편집 논란 해소될까\n",
       "316  최대 10㎝ 폭설 예보…서울시 약 9000명 제설대응 투입    비선 진료 의혹 김영재 원장 집·사무실 전격 압수수색2보\n",
       "363              경남 창원시, 드론산업 중심지로 부상                 롯데 檢수사로 자금조달 계획 차질\n",
       "373          경기도콘텐츠진흥원 영화분야 주요지원사업 발표         명분 비해 실속 아쉬운 저널리즘 토크쇼J·페이크\n",
       "379             오지도, 가지도 않는다…대구 관광 위기       작년 아동·청소년 하루평균 44분 게임…33.3%↑\n",
       "402        접경지 상인들 휴가보다는 외출·외박 풀려야 산다                       졸업의 기쁨 육사생도들\n",
       "421  다시 추워진다, 전국 곳곳 한파특보… 16일 중부 눈 소식    경총 반도체 근로자 산재 인정 간소화 제도 취지에 어긋나\n",
       "444         전남도, 청년 희망디딤돌 통장 만기적립금 지급                우리는 위안부 아닌 전쟁강간 피해자\n",
       "487             춘천에 국내 첫 레고랜드 호텔 들어선다   3만원 식사접대받고 자리옮겨 커피 얻어마시면 김영란법 위반"
      ]
     },
     "execution_count": 70,
     "metadata": {},
     "output_type": "execute_result"
    }
   ],
   "source": [
    "news_society_cleaned = news_cleaned[news_cleaned.predefined_news_category == labels[2]]\n",
    "\n",
    "society_cleaned = pd.DataFrame(news_society_cleaned.input_text).merge(pd.DataFrame(klue_society.text), left_index=True, right_index=True)\n",
    "society_cleaned.columns = ['hub', 'klue']\n",
    "society_cleaned.head(20)"
   ]
  },
  {
   "cell_type": "code",
   "execution_count": 71,
   "metadata": {},
   "outputs": [
    {
     "data": {
      "text/plain": [
       "36239"
      ]
     },
     "execution_count": 71,
     "metadata": {},
     "output_type": "execute_result"
    }
   ],
   "source": [
    "len(news_society_cleaned)"
   ]
  },
  {
   "cell_type": "code",
   "execution_count": 151,
   "metadata": {},
   "outputs": [],
   "source": [
    "pd.set_option('mode.chained_assignment', None)\n",
    "news_society_cleaned.rename(columns = {'input_text' : 'text'}, inplace = True)\n",
    "society_cleaned_3000 = news_society_cleaned.iloc[:3000]\n",
    "society_cleaned_5000 = news_society_cleaned.iloc[:5000]\n",
    "society_cleaned_10000 = news_society_cleaned.iloc[:10000]"
   ]
  },
  {
   "cell_type": "code",
   "execution_count": 152,
   "metadata": {},
   "outputs": [
    {
     "name": "stdout",
     "output_type": "stream",
     "text": [
      "31974\n"
     ]
    }
   ],
   "source": [
    "train_original = pd.read_csv('../data/train_v0.12.4.csv')\n",
    "print(len(train_original))"
   ]
  },
  {
   "cell_type": "code",
   "execution_count": 202,
   "metadata": {},
   "outputs": [
    {
     "name": "stdout",
     "output_type": "stream",
     "text": [
      "34974\n"
     ]
    },
    {
     "data": {
      "text/html": [
       "<div>\n",
       "<style scoped>\n",
       "    .dataframe tbody tr th:only-of-type {\n",
       "        vertical-align: middle;\n",
       "    }\n",
       "\n",
       "    .dataframe tbody tr th {\n",
       "        vertical-align: top;\n",
       "    }\n",
       "\n",
       "    .dataframe thead th {\n",
       "        text-align: right;\n",
       "    }\n",
       "</style>\n",
       "<table border=\"1\" class=\"dataframe\">\n",
       "  <thead>\n",
       "    <tr style=\"text-align: right;\">\n",
       "      <th></th>\n",
       "      <th>ID</th>\n",
       "      <th>text</th>\n",
       "      <th>label_text</th>\n",
       "      <th>target</th>\n",
       "      <th>url</th>\n",
       "      <th>date</th>\n",
       "      <th>index</th>\n",
       "      <th>predefined_news_category</th>\n",
       "    </tr>\n",
       "  </thead>\n",
       "  <tbody>\n",
       "    <tr>\n",
       "      <th>0</th>\n",
       "      <td>ynat-v1_train_34661</td>\n",
       "      <td>홍콩 행정장관 유화 제스처…시위대 요구 일부 수용 시사종합</td>\n",
       "      <td>세계</td>\n",
       "      <td>4</td>\n",
       "      <td>https://news.naver.com/main/read.nhn?mode=LS2D...</td>\n",
       "      <td>2019.10.21. 오후 10:49</td>\n",
       "      <td>NaN</td>\n",
       "      <td>NaN</td>\n",
       "    </tr>\n",
       "    <tr>\n",
       "      <th>1</th>\n",
       "      <td>ynat-v1_train_26526</td>\n",
       "      <td>신간 한 문장·그대에게 연을 띄우며</td>\n",
       "      <td>생활문화</td>\n",
       "      <td>3</td>\n",
       "      <td>https://news.naver.com/main/read.nhn?mode=LS2D...</td>\n",
       "      <td>2018.01.17. 오전 7:00</td>\n",
       "      <td>NaN</td>\n",
       "      <td>NaN</td>\n",
       "    </tr>\n",
       "    <tr>\n",
       "      <th>2</th>\n",
       "      <td>ynat-v1_train_20200</td>\n",
       "      <td>文대통령여야 대표 4개월만에 회동…꽉 막힌 정국 풀릴까</td>\n",
       "      <td>스포츠</td>\n",
       "      <td>6</td>\n",
       "      <td>https://news.naver.com/main/read.nhn?mode=LS2D...</td>\n",
       "      <td>2019.11.08. 오후 12:45</td>\n",
       "      <td>NaN</td>\n",
       "      <td>NaN</td>\n",
       "    </tr>\n",
       "    <tr>\n",
       "      <th>3</th>\n",
       "      <td>ynat-v1_train_13212</td>\n",
       "      <td>퇴임 앞둔 英총리 트럼프 만나 기후변화 문제제기할 것</td>\n",
       "      <td>세계</td>\n",
       "      <td>4</td>\n",
       "      <td>https://news.naver.com/main/read.nhn?mode=LS2D...</td>\n",
       "      <td>2019.06.03. 오후 4:41</td>\n",
       "      <td>NaN</td>\n",
       "      <td>NaN</td>\n",
       "    </tr>\n",
       "    <tr>\n",
       "      <th>4</th>\n",
       "      <td>ynat-v1_train_26282</td>\n",
       "      <td>웃음바다 된 MLB 감독 기자회견 트럼프 대통령 탄핵 찬...</td>\n",
       "      <td>IT과학</td>\n",
       "      <td>5</td>\n",
       "      <td>https://sports.news.naver.com/news.nhn?oid=001...</td>\n",
       "      <td>2019.10.07 07:58</td>\n",
       "      <td>NaN</td>\n",
       "      <td>NaN</td>\n",
       "    </tr>\n",
       "    <tr>\n",
       "      <th>...</th>\n",
       "      <td>...</td>\n",
       "      <td>...</td>\n",
       "      <td>...</td>\n",
       "      <td>...</td>\n",
       "      <td>...</td>\n",
       "      <td>...</td>\n",
       "      <td>...</td>\n",
       "      <td>...</td>\n",
       "    </tr>\n",
       "    <tr>\n",
       "      <th>34969</th>\n",
       "      <td>NaN</td>\n",
       "      <td>광양제철소, 다문화가정 아이들 공부방 환경개선 나서</td>\n",
       "      <td>NaN</td>\n",
       "      <td>2</td>\n",
       "      <td>NaN</td>\n",
       "      <td>NaN</td>\n",
       "      <td>8824.0</td>\n",
       "      <td>사회</td>\n",
       "    </tr>\n",
       "    <tr>\n",
       "      <th>34970</th>\n",
       "      <td>NaN</td>\n",
       "      <td>붕괴 참사 되풀이 NO…대구시 해체 현장 전수 조사</td>\n",
       "      <td>NaN</td>\n",
       "      <td>2</td>\n",
       "      <td>NaN</td>\n",
       "      <td>NaN</td>\n",
       "      <td>8825.0</td>\n",
       "      <td>사회</td>\n",
       "    </tr>\n",
       "    <tr>\n",
       "      <th>34971</th>\n",
       "      <td>NaN</td>\n",
       "      <td>부산시 과태료 안 내면 유치장·구치소 감금하겠다</td>\n",
       "      <td>NaN</td>\n",
       "      <td>2</td>\n",
       "      <td>NaN</td>\n",
       "      <td>NaN</td>\n",
       "      <td>8832.0</td>\n",
       "      <td>사회</td>\n",
       "    </tr>\n",
       "    <tr>\n",
       "      <th>34972</th>\n",
       "      <td>NaN</td>\n",
       "      <td>고양시범시민단체연합회 K-바이오 랩허브 유치 지지</td>\n",
       "      <td>NaN</td>\n",
       "      <td>2</td>\n",
       "      <td>NaN</td>\n",
       "      <td>NaN</td>\n",
       "      <td>8834.0</td>\n",
       "      <td>사회</td>\n",
       "    </tr>\n",
       "    <tr>\n",
       "      <th>34973</th>\n",
       "      <td>NaN</td>\n",
       "      <td>부모 기다리는 아이들 우리가 서귀포시 1호 돌봄센터 개소</td>\n",
       "      <td>NaN</td>\n",
       "      <td>2</td>\n",
       "      <td>NaN</td>\n",
       "      <td>NaN</td>\n",
       "      <td>8835.0</td>\n",
       "      <td>사회</td>\n",
       "    </tr>\n",
       "  </tbody>\n",
       "</table>\n",
       "<p>34974 rows × 8 columns</p>\n",
       "</div>"
      ],
      "text/plain": [
       "                        ID                                text label_text   \n",
       "0      ynat-v1_train_34661    홍콩 행정장관 유화 제스처…시위대 요구 일부 수용 시사종합         세계  \\\n",
       "1      ynat-v1_train_26526                 신간 한 문장·그대에게 연을 띄우며       생활문화   \n",
       "2      ynat-v1_train_20200      文대통령여야 대표 4개월만에 회동…꽉 막힌 정국 풀릴까        스포츠   \n",
       "3      ynat-v1_train_13212       퇴임 앞둔 英총리 트럼프 만나 기후변화 문제제기할 것         세계   \n",
       "4      ynat-v1_train_26282  웃음바다 된 MLB 감독 기자회견 트럼프 대통령 탄핵 찬...       IT과학   \n",
       "...                    ...                                 ...        ...   \n",
       "34969                  NaN        광양제철소, 다문화가정 아이들 공부방 환경개선 나서        NaN   \n",
       "34970                  NaN        붕괴 참사 되풀이 NO…대구시 해체 현장 전수 조사        NaN   \n",
       "34971                  NaN          부산시 과태료 안 내면 유치장·구치소 감금하겠다        NaN   \n",
       "34972                  NaN         고양시범시민단체연합회 K-바이오 랩허브 유치 지지        NaN   \n",
       "34973                  NaN     부모 기다리는 아이들 우리가 서귀포시 1호 돌봄센터 개소        NaN   \n",
       "\n",
       "       target                                                url   \n",
       "0           4  https://news.naver.com/main/read.nhn?mode=LS2D...  \\\n",
       "1           3  https://news.naver.com/main/read.nhn?mode=LS2D...   \n",
       "2           6  https://news.naver.com/main/read.nhn?mode=LS2D...   \n",
       "3           4  https://news.naver.com/main/read.nhn?mode=LS2D...   \n",
       "4           5  https://sports.news.naver.com/news.nhn?oid=001...   \n",
       "...       ...                                                ...   \n",
       "34969       2                                                NaN   \n",
       "34970       2                                                NaN   \n",
       "34971       2                                                NaN   \n",
       "34972       2                                                NaN   \n",
       "34973       2                                                NaN   \n",
       "\n",
       "                       date   index predefined_news_category  \n",
       "0      2019.10.21. 오후 10:49     NaN                      NaN  \n",
       "1       2018.01.17. 오전 7:00     NaN                      NaN  \n",
       "2      2019.11.08. 오후 12:45     NaN                      NaN  \n",
       "3       2019.06.03. 오후 4:41     NaN                      NaN  \n",
       "4          2019.10.07 07:58     NaN                      NaN  \n",
       "...                     ...     ...                      ...  \n",
       "34969                   NaN  8824.0                       사회  \n",
       "34970                   NaN  8825.0                       사회  \n",
       "34971                   NaN  8832.0                       사회  \n",
       "34972                   NaN  8834.0                       사회  \n",
       "34973                   NaN  8835.0                       사회  \n",
       "\n",
       "[34974 rows x 8 columns]"
      ]
     },
     "execution_count": 202,
     "metadata": {},
     "output_type": "execute_result"
    }
   ],
   "source": [
    "train_society_3000_noquote = pd.concat([train_original, society_cleaned_3000], ignore_index=True)\n",
    "print(len(train_society_3000_noquote))\n",
    "train_society_3000_noquote"
   ]
  },
  {
   "cell_type": "code",
   "execution_count": 203,
   "metadata": {},
   "outputs": [],
   "source": [
    "train_society_3000_noquote.text = train_society_3000_noquote.text.apply(lambda x: x.replace(',', ''))\n",
    "train_society_3000_noquote.text = train_society_3000_noquote.text.apply(lambda x: x.replace('...', ''))\n",
    "train_society_3000_noquote.text = train_society_3000_noquote.text.apply(lambda x: x.strip())\n",
    "train_society_3000_noquote.text = train_society_3000_noquote.text.apply(lambda x: x.replace('… ', '…'))\n",
    "train_society_3000_noquote.text = train_society_3000_noquote.text.apply(lambda x: x.replace(' …', '…'))\n",
    "train_society_3000_noquote.text = train_society_3000_noquote.text.apply(lambda x: x.replace(' … ', '…'))\n",
    "train_society_3000_noquote.to_csv('../data/train_v0.19.csv', index=False)"
   ]
  },
  {
   "cell_type": "code",
   "execution_count": 205,
   "metadata": {},
   "outputs": [],
   "source": [
    "valid = pd.read_csv('../data/valid_v0.12.4.csv')\n",
    "valid.text = valid.text.apply(lambda x: x.replace('...', ''))\n",
    "valid.to_csv('../data/train_v0.12.5.csv', index=False)"
   ]
  },
  {
   "cell_type": "code",
   "execution_count": 207,
   "metadata": {},
   "outputs": [
    {
     "data": {
      "text/plain": [
       "0"
      ]
     },
     "execution_count": 207,
     "metadata": {},
     "output_type": "execute_result"
    }
   ],
   "source": [
    "sum(train_society_3000_noquote.target)"
   ]
  },
  {
   "cell_type": "code",
   "execution_count": null,
   "metadata": {},
   "outputs": [],
   "source": []
  }
 ],
 "metadata": {
  "kernelspec": {
   "display_name": "base",
   "language": "python",
   "name": "python3"
  },
  "language_info": {
   "codemirror_mode": {
    "name": "ipython",
    "version": 3
   },
   "file_extension": ".py",
   "mimetype": "text/x-python",
   "name": "python",
   "nbconvert_exporter": "python",
   "pygments_lexer": "ipython3",
   "version": "3.8.5"
  },
  "orig_nbformat": 4
 },
 "nbformat": 4,
 "nbformat_minor": 2
}
